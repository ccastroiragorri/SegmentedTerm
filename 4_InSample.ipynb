{
 "cells": [
  {
   "cell_type": "code",
   "execution_count": 1,
   "metadata": {},
   "outputs": [
    {
     "name": "stderr",
     "output_type": "stream",
     "text": [
      "C:\\cconda\\lib\\site-packages\\statsmodels\\compat\\pandas.py:56: FutureWarning: The pandas.core.datetools module is deprecated and will be removed in a future version. Please use the pandas.tseries module instead.\n",
      "  from pandas.core import datetools\n"
     ]
    },
    {
     "data": {
      "text/html": [
       "<div>\n",
       "<style scoped>\n",
       "    .dataframe tbody tr th:only-of-type {\n",
       "        vertical-align: middle;\n",
       "    }\n",
       "\n",
       "    .dataframe tbody tr th {\n",
       "        vertical-align: top;\n",
       "    }\n",
       "\n",
       "    .dataframe thead th {\n",
       "        text-align: right;\n",
       "    }\n",
       "</style>\n",
       "<table border=\"1\" class=\"dataframe\">\n",
       "  <thead>\n",
       "    <tr style=\"text-align: right;\">\n",
       "      <th></th>\n",
       "      <th>tao1</th>\n",
       "      <th>tao2</th>\n",
       "      <th>tao3</th>\n",
       "      <th>tao4</th>\n",
       "      <th>tao5</th>\n",
       "      <th>tao6</th>\n",
       "      <th>tao7</th>\n",
       "      <th>tao8</th>\n",
       "      <th>tao9</th>\n",
       "      <th>tao10</th>\n",
       "      <th>tao11</th>\n",
       "    </tr>\n",
       "    <tr>\n",
       "      <th>Fecha</th>\n",
       "      <th></th>\n",
       "      <th></th>\n",
       "      <th></th>\n",
       "      <th></th>\n",
       "      <th></th>\n",
       "      <th></th>\n",
       "      <th></th>\n",
       "      <th></th>\n",
       "      <th></th>\n",
       "      <th></th>\n",
       "      <th></th>\n",
       "    </tr>\n",
       "  </thead>\n",
       "  <tbody>\n",
       "    <tr>\n",
       "      <th>2013-01-01</th>\n",
       "      <td>2.55</td>\n",
       "      <td>4.18</td>\n",
       "      <td>4.46</td>\n",
       "      <td>4.72</td>\n",
       "      <td>4.99</td>\n",
       "      <td>5.32</td>\n",
       "      <td>5.44</td>\n",
       "      <td>5.55</td>\n",
       "      <td>5.84</td>\n",
       "      <td>5.93</td>\n",
       "      <td>5.691151</td>\n",
       "    </tr>\n",
       "    <tr>\n",
       "      <th>2013-01-02</th>\n",
       "      <td>2.33</td>\n",
       "      <td>4.18</td>\n",
       "      <td>4.47</td>\n",
       "      <td>4.73</td>\n",
       "      <td>4.99</td>\n",
       "      <td>5.31</td>\n",
       "      <td>5.46</td>\n",
       "      <td>5.53</td>\n",
       "      <td>5.85</td>\n",
       "      <td>5.89</td>\n",
       "      <td>5.695086</td>\n",
       "    </tr>\n",
       "    <tr>\n",
       "      <th>2013-01-03</th>\n",
       "      <td>2.09</td>\n",
       "      <td>4.20</td>\n",
       "      <td>4.46</td>\n",
       "      <td>4.71</td>\n",
       "      <td>4.96</td>\n",
       "      <td>5.29</td>\n",
       "      <td>5.49</td>\n",
       "      <td>5.55</td>\n",
       "      <td>5.83</td>\n",
       "      <td>5.89</td>\n",
       "      <td>5.699017</td>\n",
       "    </tr>\n",
       "    <tr>\n",
       "      <th>2013-01-04</th>\n",
       "      <td>2.03</td>\n",
       "      <td>4.24</td>\n",
       "      <td>4.48</td>\n",
       "      <td>4.71</td>\n",
       "      <td>4.97</td>\n",
       "      <td>5.30</td>\n",
       "      <td>5.55</td>\n",
       "      <td>5.57</td>\n",
       "      <td>5.85</td>\n",
       "      <td>5.90</td>\n",
       "      <td>5.702944</td>\n",
       "    </tr>\n",
       "    <tr>\n",
       "      <th>2013-01-05</th>\n",
       "      <td>2.03</td>\n",
       "      <td>4.24</td>\n",
       "      <td>4.48</td>\n",
       "      <td>4.71</td>\n",
       "      <td>4.97</td>\n",
       "      <td>5.30</td>\n",
       "      <td>5.55</td>\n",
       "      <td>5.57</td>\n",
       "      <td>5.85</td>\n",
       "      <td>5.90</td>\n",
       "      <td>5.706868</td>\n",
       "    </tr>\n",
       "  </tbody>\n",
       "</table>\n",
       "</div>"
      ],
      "text/plain": [
       "            tao1  tao2  tao3  tao4  tao5  tao6  tao7  tao8  tao9  tao10  \\\n",
       "Fecha                                                                     \n",
       "2013-01-01  2.55  4.18  4.46  4.72  4.99  5.32  5.44  5.55  5.84   5.93   \n",
       "2013-01-02  2.33  4.18  4.47  4.73  4.99  5.31  5.46  5.53  5.85   5.89   \n",
       "2013-01-03  2.09  4.20  4.46  4.71  4.96  5.29  5.49  5.55  5.83   5.89   \n",
       "2013-01-04  2.03  4.24  4.48  4.71  4.97  5.30  5.55  5.57  5.85   5.90   \n",
       "2013-01-05  2.03  4.24  4.48  4.71  4.97  5.30  5.55  5.57  5.85   5.90   \n",
       "\n",
       "               tao11  \n",
       "Fecha                 \n",
       "2013-01-01  5.691151  \n",
       "2013-01-02  5.695086  \n",
       "2013-01-03  5.699017  \n",
       "2013-01-04  5.702944  \n",
       "2013-01-05  5.706868  "
      ]
     },
     "metadata": {},
     "output_type": "display_data"
    },
    {
     "name": "stdout",
     "output_type": "stream",
     "text": [
      "dimension:(1461, 11)\n"
     ]
    }
   ],
   "source": [
    "### Se importan las librerias\n",
    "\n",
    "import os \n",
    "import pandas as pd\n",
    "import numpy as np\n",
    "from numpy import exp\n",
    "import sys\n",
    "sys.path.append('libreriasTesis')\n",
    "from sklearn.linear_model import LinearRegression\n",
    "import matplotlib.pyplot as plt\n",
    "import matplotlib.patches as mpatches\n",
    "from statsmodels.tsa.api import VAR\n",
    "pd.options.display.max_rows = 999\n",
    "pd.options.display.max_columns = 999\n",
    "from IPython.display import clear_output, Image, display\n",
    "\n",
    "\n",
    "### Se asingan los paths\n",
    "pathTesis = os.getcwd()\n",
    "pathBases = os.path.join(pathTesis,'bases/DatosPrecia/tablaSpline')\n",
    "pathGraficas = os.path.join(pathTesis,'Graficas')\n",
    "\n",
    "\n",
    "### Se lee la data y se cambian los nombres\n",
    "dataTotal = pd.read_csv(os.path.join(pathBases,'dataPrecia.csv'), sep='|',index_col=['Fecha'], parse_dates=True)\n",
    "vencimientosC = [\"tao1\",\"tao2\",\"tao3\",\"tao4\",\"tao5\",\"tao6\",\"tao7\",\"tao8\",\"tao9\",\"tao10\",\"tao11\"]\n",
    "dataTotal.columns = vencimientosC\n",
    "\n",
    "\n",
    "### Se Asignan los diccionarios corresponientes a la data\n",
    "observadosY = {'tao2':3/12.0,'tao3':6/12.0, 'tao5':3, 'tao6':5, 'tao8':9, 'tao9':11, 'tao10':13}\n",
    "\n",
    "cortoPlazoY = {'tao1':1/12.0,'tao2':3/12.0,'tao3':6/12.0,'tao4': 1}\n",
    "cortoPlazoM = [1/12.0,3/12.0,6/12.0,1]\n",
    "cortoPlazoV = [\"3Y\",\"4Y\",\"5Y\",'7Y']\n",
    "\n",
    "medianoPlazoY = {'tao4':1, 'tao5':3, 'tao6':5, 'tao7':7}\n",
    "medianoPlazoM = [1,3,5,7]\n",
    "medianoPlazoV = ['7Y','8Y','9Y','10Y']\n",
    "\n",
    "largoPlazoY = {'tao7':7, 'tao8':9, 'tao9':11, 'tao10':13,'tao11':15}\n",
    "largoPlazoM = [7,9,11,13,15]\n",
    "largoPlazoV = ['10Y','11Y','13Y','15Y','20Y']\n",
    "\n",
    "innerY = {'tao1':1/12.0, 'tao4':1, 'tao7':7, 'tao11':15}\n",
    "vec0 = list(np.repeat(0,3))\n",
    "\n",
    "vencimientos = [1/12.0,3/12.0,6/12.0,1,3,5,7,9,11,13,15]\n",
    "\n",
    "\n",
    "display(dataTotal.head())\n",
    "print(\"dimension:{}\".format(dataTotal.shape))"
   ]
  },
  {
   "cell_type": "markdown",
   "metadata": {},
   "source": [
    "# Se empieza a calulcar por separado los factores corresponientes a los modelos clasicos, segmentado y fuertemente segmentado"
   ]
  },
  {
   "cell_type": "markdown",
   "metadata": {},
   "source": [
    "# ----------------------------------------------"
   ]
  },
  {
   "cell_type": "markdown",
   "metadata": {},
   "source": [
    "### Nelson Siegel Clasico"
   ]
  },
  {
   "cell_type": "code",
   "execution_count": 2,
   "metadata": {
    "collapsed": true
   },
   "outputs": [],
   "source": [
    "### Los factores del modelo clasico con un lambda de 0.0609\n",
    "\n",
    "def g(term,lambDa = 0.0609):\n",
    "    resultado = (1 - exp(-lambDa*term)) / (lambDa*term)\n",
    "    return resultado\n",
    "\n",
    "\n",
    "def h(term,lambDa = 0.0609):\n",
    "    resultado = ((1 - exp(-lambDa*term)) / (lambDa*term)) - exp(-lambDa*term)\n",
    "    return resultado"
   ]
  },
  {
   "cell_type": "code",
   "execution_count": 3,
   "metadata": {
    "collapsed": true
   },
   "outputs": [],
   "source": [
    "\n",
    "### Se calcula el vector para los distinitos vencimientos\n",
    "gNS = g(np.array(vencimientos))\n",
    "hNS = h(np.array(vencimientos))\n",
    "rate = dataTotal\n",
    "\n",
    "### Se crea un dataframe vacio para luego ir llenandolo con los betas luedo de hacer OLS\n",
    "betasNS = pd.DataFrame(0, index=np.arange(len(rate)), columns=[\"a\",\"b\",\"c\"])\n",
    "X = pd.DataFrame({'x2':gNS,'x3':hNS}).values\n",
    "### Se calculan los betas para cada una de los periodos de la data\n",
    "for i in range(len(rate)):\n",
    "    lm = LinearRegression()\n",
    "    y = rate.iloc[i,:]\n",
    "    lm.fit(X,y)\n",
    "    betaPar = lm.coef_\n",
    "    betaPar = [lm.intercept_.tolist(),betaPar[0],betaPar[1]]\n",
    "    betasNS.iloc[int(i),:]=betaPar\n",
    "\n",
    "### Se calcula el yield estimado para cada uno de los periodos    \n",
    "taoSigmaNelsonSiegelClasico = pd.DataFrame(0, index=np.arange(len(rate)), columns=vencimientosC)\n",
    "for i in range(len(rate)): \n",
    "    taoSigmaNelsonSiegelClasico.iloc[i,:] = betasNS.iloc[i,0] + betasNS.iloc[i,1]*np.array(gNS) + betasNS.iloc[i,2]*np.array(hNS)"
   ]
  },
  {
   "cell_type": "markdown",
   "metadata": {},
   "source": [
    "# ----------------------------------------------"
   ]
  },
  {
   "cell_type": "markdown",
   "metadata": {},
   "source": [
    "### Nelson Siegel Segmented"
   ]
  },
  {
   "cell_type": "code",
   "execution_count": 4,
   "metadata": {
    "collapsed": true
   },
   "outputs": [],
   "source": [
    "### Se crean las funciones de los factores y sus derivadas de nelson y siegel para el modelo Segmentado suave\n",
    "def g(term,lambDa = 0.0609):\n",
    "    resultado = (1 - exp(-lambDa*term)) / (lambDa*term)\n",
    "    return resultado\n",
    "\n",
    "def gPD(term,lambDa = 0.0609):\n",
    "    resultado = (exp(-lambDa*term) * (lambDa*term + 1)) / (lambDa*(term ** 2))\n",
    "    return resultado\n",
    "\n",
    "def gSD(term,lambDa = 0.0609):\n",
    "    resultado = (2 - exp(-lambDa*term) * (((lambDa * term) ** 2) + 2*(lambDa*term + 1))) / (lambDa * (term ** 3))\n",
    "    return resultado \n",
    "\n",
    "def h(term,lambDa = 0.0609):\n",
    "    resultado = ((1 - exp(-lambDa*term)) / (lambDa*term)) - exp(-lambDa*term)\n",
    "    return resultado\n",
    "\n",
    "def hPD(term,lambDa = 0.0609):\n",
    "    resultado = (exp(-lambDa*term) * (((lambDa*term) ** 2) + (lambDa*term) + 1) - 1) / (lambDa*(term ** 2))\n",
    "    return resultado\n",
    "\n",
    "def hSD(term,lambDa = 0.0609):\n",
    "    resultado = (2 - exp(-lambDa*term)*(((lambDa*term) ** 3) + ((lambDa*term) ** 2) + 2*(lambDa*term + 1))) / (lambDa * (term ** 3))\n",
    "    return resultado\n",
    "\n",
    "\n",
    "### Se crea la funcion X que permite retornar los vector de longitud 3 para la creacion de las matrices necesarias \n",
    "### del modelo segmentado\n",
    "\n",
    "\n",
    "def X_function(tao,corte,signo,derivada):\n",
    "    if derivada == '':\n",
    "        if signo == '+':\n",
    "            if corte == 'Corto':\n",
    "                return [1, g(cortoPlazoY[tao]),h(cortoPlazoY[tao])]\n",
    "            elif corte == 'Mediano':\n",
    "                return [1, g(medianoPlazoY[tao]),h(medianoPlazoY[tao])]\n",
    "            elif corte == 'Largo':\n",
    "                return [1, g(largoPlazoY[tao]),h(largoPlazoY[tao])]\n",
    "        elif signo == '-':\n",
    "            if corte == 'Corto':\n",
    "                return [-1, -g(cortoPlazoY[tao]),-h(cortoPlazoY[tao])]\n",
    "            elif corte == 'Mediano':\n",
    "                return [-1, -g(medianoPlazoY[tao]),-h(medianoPlazoY[tao])]\n",
    "            elif corte == 'Largo':\n",
    "                return [-1, -g(largoPlazoY[tao]),-h(largoPlazoY[tao])]\n",
    "    elif derivada == 'PD':\n",
    "        if signo == '+':\n",
    "            if corte == 'Corto':\n",
    "                return [0, gPD(cortoPlazoY[tao]),hPD(cortoPlazoY[tao])]\n",
    "            elif corte == 'Mediano':\n",
    "                return [0, gPD(medianoPlazoY[tao]),hPD(medianoPlazoY[tao])]\n",
    "            elif corte == 'Largo':\n",
    "                return [0, gPD(largoPlazoY[tao]),hPD(largoPlazoY[tao])]\n",
    "        elif signo == '-':\n",
    "            if corte == 'Corto':\n",
    "                return [0, -gPD(cortoPlazoY[tao]),-hPD(cortoPlazoY[tao])]\n",
    "            elif corte == 'Mediano':\n",
    "                return [0, -gPD(medianoPlazoY[tao]),-hPD(medianoPlazoY[tao])]\n",
    "            elif corte == 'Largo':\n",
    "                return [0, -gPD(largoPlazoY[tao]),-hPD(largoPlazoY[tao])]\n",
    "    elif derivada == 'SD':\n",
    "        if signo == '+':\n",
    "            if corte == 'Corto':\n",
    "                return [0, gSD(cortoPlazoY[tao]),hSD(cortoPlazoY[tao])]\n",
    "            elif corte == 'Mediano':\n",
    "                return [0, gSD(medianoPlazoY[tao]),hSD(medianoPlazoY[tao])]\n",
    "            elif corte == 'Largo':\n",
    "                return [0, gSD(largoPlazoY[tao]),hSD(largoPlazoY[tao])]\n",
    "        elif signo == '-':\n",
    "            if corte == 'Corto':\n",
    "                return [0, -gSD(cortoPlazoY[tao]),-hSD(cortoPlazoY[tao])]\n",
    "            elif corte == 'Mediano':\n",
    "                return [0, -gSD(medianoPlazoY[tao]),-hSD(medianoPlazoY[tao])]\n",
    "            elif corte == 'Largo':\n",
    "                return [0, -gSD(largoPlazoY[tao]),-hSD(largoPlazoY[tao])]\n",
    "            \n"
   ]
  },
  {
   "cell_type": "markdown",
   "metadata": {},
   "source": [
    "#### Aplicacion empirica\n",
    "\n",
    "De aqui en adelante se crean las matrices necesarias w2, w1, R1, R2 para la creacion de Z.\n",
    "Lo unico que cambia son los vencimientos de w1 y w2 y los valores de los yields"
   ]
  },
  {
   "cell_type": "markdown",
   "metadata": {},
   "source": [
    "#### Largo Plazo V1"
   ]
  },
  {
   "cell_type": "code",
   "execution_count": 5,
   "metadata": {
    "collapsed": true
   },
   "outputs": [],
   "source": [
    "W2 = np.matrix([X_function('tao9' ,'Largo','+',''),\n",
    "                X_function('tao10' ,'Largo','+',''),\n",
    "                X_function('tao11','Largo','+','')])\n",
    "\n",
    "\n",
    "W1 = np.matrix([X_function('tao3','Corto','+','') + vec0,\n",
    "                vec0                              + X_function('tao5','Mediano','+',''),\n",
    "                vec0                              + X_function('tao6','Mediano','+','')])\n",
    "\n",
    "\n",
    "R1 =  np.matrix([X_function('tao4','Corto','+','')   + X_function('tao4','Mediano','-',''),\n",
    "                 vec0                                + X_function('tao7','Mediano','+',''),\n",
    "                 X_function('tao4','Corto','+','PD') + X_function('tao4','Mediano','-','PD'),\n",
    "                 vec0                                + X_function('tao7','Mediano','+','PD'),\n",
    "                 X_function('tao4','Corto','+','SD') + X_function('tao4','Mediano','-','SD'),\n",
    "                 vec0                                + X_function('tao7','Mediano','+','SD')])\n",
    "\n",
    "\n",
    "R1_invertida = np.linalg.inv(R1)\n",
    "\n",
    "\n",
    "R2 = np.matrix([vec0,\n",
    "                X_function('tao7','Largo','-',''),\n",
    "                vec0,\n",
    "                X_function('tao7','Largo','-','PD'),\n",
    "                vec0,\n",
    "                X_function('tao7','Largo','-','SD'),])\n",
    "\n",
    "\n",
    "R2_invertida = np.linalg.pinv(R2)\n",
    "\n",
    "\n",
    "\n",
    "Z = W2 - (W1 * R1_invertida) * R2\n",
    "\n",
    "X = Z\n",
    "\n",
    "\n",
    "rate = dataTotal.loc[:,['tao9','tao10','tao11']]\n",
    "sigma2 = pd.DataFrame(0, index=np.arange(len(rate)), columns=[\"a_NSSegSuLP\",\"b_NSSegSuLP\",\"c_NSSegSuLP\"])\n",
    "for i in range(len(rate)):\n",
    "    lm = LinearRegression()\n",
    "    y = rate.iloc[i,:]\n",
    "    lm.fit(X,y)\n",
    "    betaPar = lm.coef_\n",
    "    betaPar = [lm.intercept_.tolist(),betaPar[1],betaPar[2]]\n",
    "    sigma2.iloc[int(i),:]=betaPar\n",
    "    \n",
    "    \n",
    "taoSigmaLargoPlazoV1 = pd.DataFrame(0, index=np.arange(len(rate)), columns=[\"tao9\",\"tao10\",\"tao11\"])\n",
    "for i in range(len(rate)):  \n",
    "    taoSigmaLargoPlazoV1.loc[i,'tao9'] = sigma2.loc[i,'a_NSSegSuLP'] + sigma2.loc[i,'b_NSSegSuLP']*Z[0,1] + sigma2.loc[i,'c_NSSegSuLP']*Z[0,2]\n",
    "    taoSigmaLargoPlazoV1.loc[i,'tao10'] = sigma2.loc[i,'a_NSSegSuLP'] + sigma2.loc[i,'b_NSSegSuLP']*Z[1,1] + sigma2.loc[i,'c_NSSegSuLP']*Z[1,2]\n",
    "    taoSigmaLargoPlazoV1.loc[i,'tao11'] = sigma2.loc[i,'a_NSSegSuLP'] + sigma2.loc[i,'b_NSSegSuLP']*Z[2,1] + sigma2.loc[i,'c_NSSegSuLP']*Z[2,2]\n",
    "    "
   ]
  },
  {
   "cell_type": "markdown",
   "metadata": {},
   "source": [
    "#### Largo Plazo V2"
   ]
  },
  {
   "cell_type": "code",
   "execution_count": 6,
   "metadata": {
    "collapsed": true
   },
   "outputs": [],
   "source": [
    "W2 = np.matrix([X_function('tao7' ,'Largo','+',''),\n",
    "                X_function('tao8' ,'Largo','+','')])\n",
    "\n",
    "\n",
    "W1 = np.matrix([X_function('tao3','Corto','+','') + vec0,\n",
    "                vec0                              + X_function('tao6','Mediano','+','')])\n",
    "\n",
    "\n",
    "\n",
    "R1 =  np.matrix([X_function('tao4','Corto','+','')   + X_function('tao4','Mediano','-',''),\n",
    "                 vec0                                + X_function('tao7','Mediano','+',''),\n",
    "                 X_function('tao4','Corto','+','PD') + X_function('tao4','Mediano','-','PD'),\n",
    "                 vec0                                + X_function('tao7','Mediano','+','PD'),\n",
    "                 X_function('tao4','Corto','+','SD') + X_function('tao4','Mediano','-','SD'),\n",
    "                 vec0                                + X_function('tao7','Mediano','+','SD')])\n",
    "\n",
    "\n",
    "\n",
    "R1_invertida = np.linalg.inv(R1)\n",
    "\n",
    "R2 = np.matrix([vec0,\n",
    "                X_function('tao7','Largo','-',''),\n",
    "                vec0,\n",
    "                X_function('tao7','Largo','-','PD'),\n",
    "                vec0,\n",
    "                X_function('tao7','Largo','-','SD'),])\n",
    "\n",
    "\n",
    "R2_invertida = np.linalg.pinv(R2)\n",
    "\n",
    "\n",
    "\n",
    "Z = W2 - (W1 * R1_invertida) * R2\n",
    "\n",
    "X = Z\n",
    "\n",
    "\n",
    "rate = dataTotal.loc[:,['tao7','tao8']]\n",
    "sigma2 = pd.DataFrame(0, index=np.arange(len(rate)), columns=[\"a_NSSegSuLP\",\"b_NSSegSuLP\",\"c_NSSegSuLP\"])\n",
    "for i in range(len(rate)):\n",
    "    lm = LinearRegression()\n",
    "    y = rate.iloc[i,:]\n",
    "    lm.fit(X,y)\n",
    "    betaPar = lm.coef_\n",
    "    betaPar = [lm.intercept_.tolist(),betaPar[1],betaPar[2]]\n",
    "    sigma2.iloc[int(i),:]=betaPar\n",
    "\n",
    "    \n",
    "taoSigmaLargoPlazoV2 = pd.DataFrame(0, index=np.arange(len(rate)), columns=[\"tao7\",\"tao8\"])\n",
    "for i in range(len(rate)):  \n",
    "    taoSigmaLargoPlazoV2.loc[i,'tao7'] = sigma2.loc[i,'a_NSSegSuLP'] + sigma2.loc[i,'b_NSSegSuLP']*Z[0,1] + sigma2.loc[i,'c_NSSegSuLP']*Z[0,2]\n",
    "    taoSigmaLargoPlazoV2.loc[i,'tao8'] = sigma2.loc[i,'a_NSSegSuLP'] + sigma2.loc[i,'b_NSSegSuLP']*Z[1,1] + sigma2.loc[i,'c_NSSegSuLP']*Z[1,2]\n",
    "    \n",
    "    "
   ]
  },
  {
   "cell_type": "markdown",
   "metadata": {},
   "source": [
    "#### Mediano Plazo"
   ]
  },
  {
   "cell_type": "code",
   "execution_count": 7,
   "metadata": {
    "collapsed": true
   },
   "outputs": [],
   "source": [
    "W2 = np.matrix([X_function('tao7' ,'Largo','+',''),\n",
    "                X_function('tao8' ,'Largo','+',''),\n",
    "                X_function('tao9' ,'Largo','+','')])\n",
    "\n",
    "W1 = np.matrix([X_function('tao3','Corto','+','') + vec0,\n",
    "                vec0                              + X_function('tao5','Mediano','+',''),\n",
    "                vec0                              + X_function('tao6','Mediano','+','')])\n",
    "\n",
    "\n",
    "R1 =  np.matrix([X_function('tao4','Corto','+','')   + X_function('tao4','Mediano','-',''),\n",
    "                 vec0                                + X_function('tao7','Mediano','+',''),\n",
    "                 X_function('tao4','Corto','+','PD') + X_function('tao4','Mediano','-','PD'),\n",
    "                 vec0                                + X_function('tao7','Mediano','+','PD'),\n",
    "                 X_function('tao4','Corto','+','SD') + X_function('tao4','Mediano','-','SD'),\n",
    "                 vec0                                + X_function('tao7','Mediano','+','SD')])\n",
    "\n",
    "\n",
    "\n",
    "R1_invertida = np.linalg.inv(R1)\n",
    "\n",
    "\n",
    "R2 = np.matrix([vec0,\n",
    "                X_function('tao7','Largo','-',''),\n",
    "                vec0,\n",
    "                X_function('tao7','Largo','-','PD'),\n",
    "                vec0,\n",
    "                X_function('tao7','Largo','-','SD'),])\n",
    "\n",
    "R2_invertida = np.linalg.pinv(R2)\n",
    "\n",
    "\n",
    "\n",
    "Z = W2 - (W1 * R1_invertida) * R2\n",
    "\n",
    "X = Z\n",
    "\n",
    "\n",
    "rate = dataTotal.loc[:,['tao3','tao5','tao6']]\n",
    "sigma2 = pd.DataFrame(0, index=np.arange(len(rate)), columns=[\"a_NSSegSuLP\",\"b_NSSegSuLP\",\"c_NSSegSuLP\"])\n",
    "for i in range(len(rate)):\n",
    "    lm = LinearRegression()\n",
    "    y = rate.iloc[i,:]\n",
    "    lm.fit(X,y)\n",
    "    betaPar = lm.coef_\n",
    "    betaPar = [lm.intercept_.tolist(),betaPar[1],betaPar[2]]\n",
    "    sigma2.iloc[int(i),:]=betaPar\n",
    "\n",
    "    \n",
    "taoSigmaMedianoPlazo = pd.DataFrame(0, index=np.arange(len(rate)), columns=[\"tao3\",\"tao5\",\"tao6\"])\n",
    "for i in range(len(rate)):  \n",
    "    taoSigmaMedianoPlazo.loc[i,'tao3'] = sigma2.loc[i,'a_NSSegSuLP'] + sigma2.loc[i,'b_NSSegSuLP']*Z[0,1] + sigma2.loc[i,'c_NSSegSuLP']*Z[0,2]\n",
    "    taoSigmaMedianoPlazo.loc[i,'tao5'] = sigma2.loc[i,'a_NSSegSuLP'] + sigma2.loc[i,'b_NSSegSuLP']*Z[1,1] + sigma2.loc[i,'c_NSSegSuLP']*Z[1,2]\n",
    "    taoSigmaMedianoPlazo.loc[i,'tao6'] = sigma2.loc[i,'a_NSSegSuLP'] + sigma2.loc[i,'b_NSSegSuLP']*Z[2,1] + sigma2.loc[i,'c_NSSegSuLP']*Z[2,2]"
   ]
  },
  {
   "cell_type": "markdown",
   "metadata": {},
   "source": [
    "#### Corto Plazo"
   ]
  },
  {
   "cell_type": "code",
   "execution_count": 8,
   "metadata": {
    "collapsed": true
   },
   "outputs": [],
   "source": [
    "W2 = np.matrix([X_function('tao7' ,'Largo','+',''),\n",
    "                X_function('tao8' ,'Largo','+',''),\n",
    "                X_function('tao9' ,'Largo','+','')])\n",
    "\n",
    "\n",
    "W1 = np.matrix([X_function('tao1','Corto','+','') + vec0,\n",
    "                X_function('tao2','Corto','+','') + vec0,\n",
    "                vec0                              + X_function('tao4','Mediano','+','')])\n",
    "\n",
    "\n",
    "\n",
    "R1 =  np.matrix([X_function('tao4','Corto','+','')   + X_function('tao4','Mediano','-',''),\n",
    "                 vec0                                + X_function('tao7','Mediano','+',''),\n",
    "                 X_function('tao4','Corto','+','PD') + X_function('tao4','Mediano','-','PD'),\n",
    "                 vec0                                + X_function('tao7','Mediano','+','PD'),\n",
    "                 X_function('tao4','Corto','+','SD') + X_function('tao4','Mediano','-','SD'),\n",
    "                 vec0                                + X_function('tao7','Mediano','+','SD')])\n",
    "\n",
    "\n",
    "\n",
    "R1_invertida = np.linalg.inv(R1)\n",
    "\n",
    "\n",
    "R2 = np.matrix([vec0,\n",
    "                X_function('tao7','Largo','-',''),\n",
    "                vec0,\n",
    "                X_function('tao7','Largo','-','PD'),\n",
    "                vec0,\n",
    "                X_function('tao7','Largo','-','SD'),])\n",
    "\n",
    "\n",
    "R2_invertida = np.linalg.pinv(R2)\n",
    "\n",
    "\n",
    "\n",
    "Z = W2 - (W1 * R1_invertida) * R2\n",
    "\n",
    "X = Z\n",
    "\n",
    "\n",
    "rate = dataTotal.loc[:,['tao1','tao2','tao4']]\n",
    "sigma2 = pd.DataFrame(0, index=np.arange(len(rate)), columns=[\"a_NSSegSuLP\",\"b_NSSegSuLP\",\"c_NSSegSuLP\"])\n",
    "for i in range(len(rate)):\n",
    "    lm = LinearRegression()\n",
    "    y = rate.iloc[i,:]\n",
    "    lm.fit(X,y)\n",
    "    betaPar = lm.coef_\n",
    "    betaPar = [lm.intercept_.tolist(),betaPar[1],betaPar[2]]\n",
    "    sigma2.iloc[int(i),:]=betaPar\n",
    "\n",
    "    \n",
    "taoSigmaCortoPlazo = pd.DataFrame(0, index=np.arange(len(rate)), columns=[\"tao1\",\"tao2\",\"tao4\"])\n",
    "for i in range(len(rate)):  \n",
    "    taoSigmaCortoPlazo.loc[i,'tao1'] = sigma2.loc[i,'a_NSSegSuLP'] + sigma2.loc[i,'b_NSSegSuLP']*Z[0,1] + sigma2.loc[i,'c_NSSegSuLP']*Z[0,2]\n",
    "    taoSigmaCortoPlazo.loc[i,'tao2'] = sigma2.loc[i,'a_NSSegSuLP'] + sigma2.loc[i,'b_NSSegSuLP']*Z[1,1] + sigma2.loc[i,'c_NSSegSuLP']*Z[1,2]\n",
    "    taoSigmaCortoPlazo.loc[i,'tao4'] = sigma2.loc[i,'a_NSSegSuLP'] + sigma2.loc[i,'b_NSSegSuLP']*Z[2,1] + sigma2.loc[i,'c_NSSegSuLP']*Z[2,2]\n",
    "    "
   ]
  },
  {
   "cell_type": "markdown",
   "metadata": {},
   "source": [
    "#### Union Plazos"
   ]
  },
  {
   "cell_type": "code",
   "execution_count": 9,
   "metadata": {
    "collapsed": true
   },
   "outputs": [],
   "source": [
    "### Se unen todos los yields de largo plazo v1,v2, mediano plazo y corto plazo\n",
    "taoSigmaNelsonSiegelSegmentado = taoSigmaCortoPlazo.join(taoSigmaMedianoPlazo).join(taoSigmaLargoPlazoV1).join(taoSigmaLargoPlazoV2)[vencimientosC]"
   ]
  },
  {
   "cell_type": "markdown",
   "metadata": {},
   "source": [
    "# ----------------------------------------------"
   ]
  },
  {
   "cell_type": "markdown",
   "metadata": {},
   "source": [
    "## Nelson Siegel Strongly Segmented"
   ]
  },
  {
   "cell_type": "code",
   "execution_count": 10,
   "metadata": {
    "collapsed": true
   },
   "outputs": [],
   "source": [
    "### Se crean las funciones de los factores y sus derivadas de nelson y siegel para el modelo Segmentado Fuertemente\n",
    "### Segmentado\n",
    "\n",
    "def g(term,termImenos,lambDa = 0.0609, p = 0.5):\n",
    "    A = term - termImenos*(1-p)\n",
    "    resultado = (1 - exp(-lambDa*A)) / (lambDa*A)\n",
    "    return resultado\n",
    "\n",
    "def gPD(term,termImenos,lambDa = 0.0609, p = 0.5):\n",
    "    A = term - termImenos*(1-p)\n",
    "    resultado = (exp(-lambDa*A) * (lambDa*A + 1)) / (lambDa*(A ** 2))\n",
    "    return resultado\n",
    "\n",
    "def gSD(term,termImenos,lambDa = 0.0609, p = 0.5):\n",
    "    A = term - termImenos*(1-p)\n",
    "    resultado = (2 - exp(-lambDa*A) * (((lambDa * A) ** 2) + 2*(lambDa*A + 1))) / (lambDa * (A ** 3))\n",
    "    return resultado \n",
    "\n",
    "def h(term,termImenos,lambDa = 0.0609, p = 0.5):\n",
    "    A = term - termImenos*(1-p)\n",
    "    resultado = ((1 - exp(-lambDa*A)) / (lambDa*A)) - exp(-lambDa*A)\n",
    "    return resultado\n",
    "\n",
    "def hPD(term,termImenos,lambDa = 0.0609, p = 0.5):\n",
    "    A = term - termImenos*(1-p)\n",
    "    resultado = (exp(-lambDa*A) * (((lambDa*A) ** 2) + (lambDa*A) + 1) - 1) / (lambDa*(A ** 2))\n",
    "    return resultado\n",
    "\n",
    "def hSD(term,termImenos,lambDa = 0.0609, p = 0.5):\n",
    "    A = term - termImenos*(1-p)\n",
    "    resultado = (2 - exp(-lambDa*A)*(((lambDa*A) ** 3) + ((lambDa*A) ** 2) + 2*(lambDa*A + 1))) / (lambDa * (A ** 3))\n",
    "    return resultado\n",
    "\n",
    "\n",
    "### Se crea la funcion X que permite retornar los vector de longitud 3 para la creacion de las matrices necesarias \n",
    "### del modelo fuertemente segmentado\n",
    "\n",
    "def X_function(tao,corte,signo,derivada):\n",
    "    if derivada == '':\n",
    "        if signo == '+':\n",
    "            if corte == 'Corto':\n",
    "                taoImenos = 'tao1'\n",
    "                return [1, g(cortoPlazoY[tao],cortoPlazoY[taoImenos]),h(cortoPlazoY[tao],cortoPlazoY[taoImenos])]\n",
    "            elif corte == 'Mediano':\n",
    "                taoImenos = 'tao4'\n",
    "                return [1, g(medianoPlazoY[tao],medianoPlazoY[taoImenos]),h(medianoPlazoY[tao],medianoPlazoY[taoImenos])]\n",
    "            elif corte == 'Largo':\n",
    "                taoImenos = 'tao7'\n",
    "                return [1, g(largoPlazoY[tao],largoPlazoY[taoImenos]),h(largoPlazoY[tao],largoPlazoY[taoImenos])]\n",
    "        elif signo == '-':\n",
    "            if corte == 'Corto':\n",
    "                taoImenos = 'tao1'\n",
    "                return [-1, -g(cortoPlazoY[tao],cortoPlazoY[taoImenos]),-h(cortoPlazoY[tao],cortoPlazoY[taoImenos])]\n",
    "            elif corte == 'Mediano':\n",
    "                taoImenos = 'tao4'\n",
    "                return [-1, -g(medianoPlazoY[tao],medianoPlazoY[taoImenos]),-h(medianoPlazoY[tao],medianoPlazoY[taoImenos])]\n",
    "            elif corte == 'Largo':\n",
    "                taoImenos = 'tao7'\n",
    "                return [-1, -g(largoPlazoY[tao],largoPlazoY[taoImenos]),-h(largoPlazoY[tao],largoPlazoY[taoImenos])]\n",
    "    elif derivada == 'PD':\n",
    "        if signo == '+':\n",
    "            if corte == 'Corto':\n",
    "                taoImenos = 'tao1'\n",
    "                return [0, gPD(cortoPlazoY[tao],cortoPlazoY[taoImenos]),hPD(cortoPlazoY[tao],cortoPlazoY[taoImenos])]\n",
    "            elif corte == 'Mediano':\n",
    "                taoImenos = 'tao4'\n",
    "                return [0, gPD(medianoPlazoY[tao],medianoPlazoY[taoImenos]),hPD(medianoPlazoY[tao],medianoPlazoY[taoImenos])]\n",
    "            elif corte == 'Largo':\n",
    "                taoImenos = 'tao7'\n",
    "                return [0, gPD(largoPlazoY[tao],largoPlazoY[taoImenos]),hPD(largoPlazoY[tao],largoPlazoY[taoImenos])]\n",
    "        elif signo == '-':\n",
    "            if corte == 'Corto':\n",
    "                taoImenos = 'tao1'\n",
    "                return [0, -gPD(cortoPlazoY[tao],cortoPlazoY[taoImenos]),-hPD(cortoPlazoY[tao],cortoPlazoY[taoImenos])]\n",
    "            elif corte == 'Mediano':\n",
    "                taoImenos = 'tao4'\n",
    "                return [0, -gPD(medianoPlazoY[tao],medianoPlazoY[taoImenos]),-hPD(medianoPlazoY[tao],medianoPlazoY[taoImenos])]\n",
    "            elif corte == 'Largo':\n",
    "                taoImenos = 'tao7'\n",
    "                return [0, -gPD(largoPlazoY[tao],largoPlazoY[taoImenos]),-hPD(largoPlazoY[tao],largoPlazoY[taoImenos])]\n",
    "    elif derivada == 'SD':\n",
    "        if signo == '+':\n",
    "            if corte == 'Corto':\n",
    "                taoImenos = 'tao1'\n",
    "                return [0, gSD(cortoPlazoY[tao],cortoPlazoY[taoImenos]),hSD(cortoPlazoY[tao],cortoPlazoY[taoImenos])]\n",
    "            elif corte == 'Mediano':\n",
    "                taoImenos = 'tao4'\n",
    "                return [0, gSD(medianoPlazoY[tao],medianoPlazoY[taoImenos]),hSD(medianoPlazoY[tao],medianoPlazoY[taoImenos])]\n",
    "            elif corte == 'Largo':\n",
    "                taoImenos = 'tao7'\n",
    "                return [0, gSD(largoPlazoY[tao],largoPlazoY[taoImenos]),hSD(largoPlazoY[tao],largoPlazoY[taoImenos])]\n",
    "        elif signo == '-':\n",
    "            if corte == 'Corto':\n",
    "                taoImenos = 'tao1'\n",
    "                return [0, -gSD(cortoPlazoY[tao],cortoPlazoY[taoImenos]),-hSD(cortoPlazoY[tao],cortoPlazoY[taoImenos])]\n",
    "            elif corte == 'Mediano':\n",
    "                taoImenos = 'tao4'\n",
    "                return [0, -gSD(medianoPlazoY[tao],medianoPlazoY[taoImenos]),-hSD(medianoPlazoY[tao],medianoPlazoY[taoImenos])]\n",
    "            elif corte == 'Largo':\n",
    "                taoImenos = 'tao7'\n",
    "                return [0, -gSD(largoPlazoY[tao],largoPlazoY[taoImenos]),-hSD(largoPlazoY[tao],largoPlazoY[taoImenos])]"
   ]
  },
  {
   "cell_type": "markdown",
   "metadata": {},
   "source": [
    "#### Aplicacion empirica\n",
    "\n",
    "De aqui en adelante se crean las matrices necesarias w2, w1, R1, R2 para la creacion de Z.\n",
    "Lo unico que cambia son los vencimientos de w1 y w2 y los valores de los yields"
   ]
  },
  {
   "cell_type": "markdown",
   "metadata": {},
   "source": [
    "#### Largo Plazo V1"
   ]
  },
  {
   "cell_type": "code",
   "execution_count": 11,
   "metadata": {
    "collapsed": true
   },
   "outputs": [],
   "source": [
    "W2 = np.matrix([X_function('tao9' ,'Largo','+',''),\n",
    "                X_function('tao10' ,'Largo','+',''),\n",
    "                X_function('tao11','Largo','+','')])\n",
    "\n",
    "\n",
    "W1 = np.matrix([X_function('tao3','Corto','+','') + vec0,\n",
    "                vec0                              + X_function('tao5','Mediano','+',''),\n",
    "                vec0                              + X_function('tao6','Mediano','+','')])\n",
    "\n",
    "\n",
    "R1 =  np.matrix([X_function('tao4','Corto','+','')   + X_function('tao4','Mediano','-',''),\n",
    "                 vec0                                + X_function('tao7','Mediano','+',''),\n",
    "                 X_function('tao4','Corto','+','PD') + X_function('tao4','Mediano','-','PD'),\n",
    "                 vec0                                + X_function('tao7','Mediano','+','PD'),\n",
    "                 X_function('tao4','Corto','+','SD') + X_function('tao4','Mediano','-','SD'),\n",
    "                 vec0                                + X_function('tao7','Mediano','+','SD')])\n",
    "\n",
    "\n",
    "R1_invertida = np.linalg.inv(R1)\n",
    "\n",
    "\n",
    "R2 = np.matrix([vec0,\n",
    "                X_function('tao7','Largo','-',''),\n",
    "                vec0,\n",
    "                X_function('tao7','Largo','-','PD'),\n",
    "                vec0,\n",
    "                X_function('tao7','Largo','-','SD'),])\n",
    "\n",
    "\n",
    "R2_invertida = np.linalg.pinv(R2)\n",
    "\n",
    "\n",
    "\n",
    "Z = W2 - (W1 * R1_invertida) * R2\n",
    "\n",
    "X = Z\n",
    "\n",
    "\n",
    "rate = dataTotal.loc[:,['tao9','tao10','tao11']]\n",
    "sigma2 = pd.DataFrame(0, index=np.arange(len(rate)), columns=[\"a_NSSegSuLP\",\"b_NSSegSuLP\",\"c_NSSegSuLP\"])\n",
    "for i in range(len(rate)):\n",
    "    lm = LinearRegression()\n",
    "    y = rate.iloc[i,:]\n",
    "    lm.fit(X,y)\n",
    "    betaPar = lm.coef_\n",
    "    betaPar = [lm.intercept_.tolist(),betaPar[1],betaPar[2]]\n",
    "    sigma2.iloc[int(i),:]=betaPar\n",
    "    \n",
    "    \n",
    "taoSigmaLargoPlazoV1Str = pd.DataFrame(0, index=np.arange(len(rate)), columns=[\"tao9\",\"tao10\",\"tao11\"])\n",
    "for i in range(len(rate)):  \n",
    "    taoSigmaLargoPlazoV1Str.loc[i,'tao9'] = sigma2.loc[i,'a_NSSegSuLP'] + sigma2.loc[i,'b_NSSegSuLP']*Z[0,1] + sigma2.loc[i,'c_NSSegSuLP']*Z[0,2]\n",
    "    taoSigmaLargoPlazoV1Str.loc[i,'tao10'] = sigma2.loc[i,'a_NSSegSuLP'] + sigma2.loc[i,'b_NSSegSuLP']*Z[1,1] + sigma2.loc[i,'c_NSSegSuLP']*Z[1,2]\n",
    "    taoSigmaLargoPlazoV1Str.loc[i,'tao11'] = sigma2.loc[i,'a_NSSegSuLP'] + sigma2.loc[i,'b_NSSegSuLP']*Z[2,1] + sigma2.loc[i,'c_NSSegSuLP']*Z[2,2]\n",
    "    "
   ]
  },
  {
   "cell_type": "markdown",
   "metadata": {},
   "source": [
    "#### Largo Plazo V2"
   ]
  },
  {
   "cell_type": "code",
   "execution_count": 12,
   "metadata": {
    "collapsed": true
   },
   "outputs": [],
   "source": [
    "W2 = np.matrix([X_function('tao7' ,'Largo','+',''),\n",
    "                X_function('tao8' ,'Largo','+','')])\n",
    "\n",
    "\n",
    "W1 = np.matrix([X_function('tao3','Corto','+','') + vec0,\n",
    "                vec0                              + X_function('tao6','Mediano','+','')])\n",
    "\n",
    "\n",
    "\n",
    "R1 =  np.matrix([X_function('tao4','Corto','+','')   + X_function('tao4','Mediano','-',''),\n",
    "                 vec0                                + X_function('tao7','Mediano','+',''),\n",
    "                 X_function('tao4','Corto','+','PD') + X_function('tao4','Mediano','-','PD'),\n",
    "                 vec0                                + X_function('tao7','Mediano','+','PD'),\n",
    "                 X_function('tao4','Corto','+','SD') + X_function('tao4','Mediano','-','SD'),\n",
    "                 vec0                                + X_function('tao7','Mediano','+','SD')])\n",
    "\n",
    "\n",
    "\n",
    "R1_invertida = np.linalg.inv(R1)\n",
    "\n",
    "R2 = np.matrix([vec0,\n",
    "                X_function('tao7','Largo','-',''),\n",
    "                vec0,\n",
    "                X_function('tao7','Largo','-','PD'),\n",
    "                vec0,\n",
    "                X_function('tao7','Largo','-','SD'),])\n",
    "\n",
    "\n",
    "R2_invertida = np.linalg.pinv(R2)\n",
    "\n",
    "\n",
    "\n",
    "Z = W2 - (W1 * R1_invertida) * R2\n",
    "\n",
    "X = Z\n",
    "\n",
    "\n",
    "rate = dataTotal.loc[:,['tao7','tao8']]\n",
    "sigma2 = pd.DataFrame(0, index=np.arange(len(rate)), columns=[\"a_NSSegSuLP\",\"b_NSSegSuLP\",\"c_NSSegSuLP\"])\n",
    "for i in range(len(rate)):\n",
    "    lm = LinearRegression()\n",
    "    y = rate.iloc[i,:]\n",
    "    lm.fit(X,y)\n",
    "    betaPar = lm.coef_\n",
    "    betaPar = [lm.intercept_.tolist(),betaPar[1],betaPar[2]]\n",
    "    sigma2.iloc[int(i),:]=betaPar\n",
    "\n",
    "    \n",
    "taoSigmaLargoPlazoV2Str = pd.DataFrame(0, index=np.arange(len(rate)), columns=[\"tao7\",\"tao8\"])\n",
    "for i in range(len(rate)):  \n",
    "    taoSigmaLargoPlazoV2Str.loc[i,'tao7'] = sigma2.loc[i,'a_NSSegSuLP'] + sigma2.loc[i,'b_NSSegSuLP']*Z[0,1] + sigma2.loc[i,'c_NSSegSuLP']*Z[0,2]\n",
    "    taoSigmaLargoPlazoV2Str.loc[i,'tao8'] = sigma2.loc[i,'a_NSSegSuLP'] + sigma2.loc[i,'b_NSSegSuLP']*Z[1,1] + sigma2.loc[i,'c_NSSegSuLP']*Z[1,2]\n",
    "    \n",
    "    "
   ]
  },
  {
   "cell_type": "markdown",
   "metadata": {},
   "source": [
    "#### Mediano Plazo"
   ]
  },
  {
   "cell_type": "code",
   "execution_count": 13,
   "metadata": {
    "collapsed": true
   },
   "outputs": [],
   "source": [
    "W2 = np.matrix([X_function('tao7' ,'Largo','+',''),\n",
    "                X_function('tao8' ,'Largo','+',''),\n",
    "                X_function('tao9' ,'Largo','+','')])\n",
    "\n",
    "W1 = np.matrix([X_function('tao3','Corto','+','') + vec0,\n",
    "                vec0                              + X_function('tao5','Mediano','+',''),\n",
    "                vec0                              + X_function('tao6','Mediano','+','')])\n",
    "\n",
    "\n",
    "R1 =  np.matrix([X_function('tao4','Corto','+','')   + X_function('tao4','Mediano','-',''),\n",
    "                 vec0                                + X_function('tao7','Mediano','+',''),\n",
    "                 X_function('tao4','Corto','+','PD') + X_function('tao4','Mediano','-','PD'),\n",
    "                 vec0                                + X_function('tao7','Mediano','+','PD'),\n",
    "                 X_function('tao4','Corto','+','SD') + X_function('tao4','Mediano','-','SD'),\n",
    "                 vec0                                + X_function('tao7','Mediano','+','SD')])\n",
    "\n",
    "\n",
    "\n",
    "R1_invertida = np.linalg.inv(R1)\n",
    "\n",
    "\n",
    "R2 = np.matrix([vec0,\n",
    "                X_function('tao7','Largo','-',''),\n",
    "                vec0,\n",
    "                X_function('tao7','Largo','-','PD'),\n",
    "                vec0,\n",
    "                X_function('tao7','Largo','-','SD'),])\n",
    "\n",
    "R2_invertida = np.linalg.pinv(R2)\n",
    "\n",
    "\n",
    "\n",
    "Z = W2 - (W1 * R1_invertida) * R2\n",
    "\n",
    "X = Z\n",
    "\n",
    "\n",
    "rate = dataTotal.loc[:,['tao3','tao5','tao6']]\n",
    "sigma2 = pd.DataFrame(0, index=np.arange(len(rate)), columns=[\"a_NSSegSuLP\",\"b_NSSegSuLP\",\"c_NSSegSuLP\"])\n",
    "for i in range(len(rate)):\n",
    "    lm = LinearRegression()\n",
    "    y = rate.iloc[i,:]\n",
    "    lm.fit(X,y)\n",
    "    betaPar = lm.coef_\n",
    "    betaPar = [lm.intercept_.tolist(),betaPar[1],betaPar[2]]\n",
    "    sigma2.iloc[int(i),:]=betaPar\n",
    "\n",
    "    \n",
    "taoSigmaMedianoPlazoStr = pd.DataFrame(0, index=np.arange(len(rate)), columns=[\"tao3\",\"tao5\",\"tao6\"])\n",
    "for i in range(len(rate)):  \n",
    "    taoSigmaMedianoPlazoStr.loc[i,'tao3'] = sigma2.loc[i,'a_NSSegSuLP'] + sigma2.loc[i,'b_NSSegSuLP']*Z[0,1] + sigma2.loc[i,'c_NSSegSuLP']*Z[0,2]\n",
    "    taoSigmaMedianoPlazoStr.loc[i,'tao5'] = sigma2.loc[i,'a_NSSegSuLP'] + sigma2.loc[i,'b_NSSegSuLP']*Z[1,1] + sigma2.loc[i,'c_NSSegSuLP']*Z[1,2]\n",
    "    taoSigmaMedianoPlazoStr.loc[i,'tao6'] = sigma2.loc[i,'a_NSSegSuLP'] + sigma2.loc[i,'b_NSSegSuLP']*Z[2,1] + sigma2.loc[i,'c_NSSegSuLP']*Z[2,2]"
   ]
  },
  {
   "cell_type": "markdown",
   "metadata": {},
   "source": [
    "#### Corto Plazo"
   ]
  },
  {
   "cell_type": "code",
   "execution_count": 14,
   "metadata": {
    "collapsed": true
   },
   "outputs": [],
   "source": [
    "W2 = np.matrix([X_function('tao7' ,'Largo','+',''),\n",
    "                X_function('tao8' ,'Largo','+',''),\n",
    "                X_function('tao9' ,'Largo','+','')])\n",
    "\n",
    "\n",
    "W1 = np.matrix([X_function('tao1','Corto','+','') + vec0,\n",
    "                X_function('tao2','Corto','+','') + vec0,\n",
    "                vec0                              + X_function('tao4','Mediano','+','')])\n",
    "\n",
    "\n",
    "\n",
    "R1 =  np.matrix([X_function('tao4','Corto','+','')   + X_function('tao4','Mediano','-',''),\n",
    "                 vec0                                + X_function('tao7','Mediano','+',''),\n",
    "                 X_function('tao4','Corto','+','PD') + X_function('tao4','Mediano','-','PD'),\n",
    "                 vec0                                + X_function('tao7','Mediano','+','PD'),\n",
    "                 X_function('tao4','Corto','+','SD') + X_function('tao4','Mediano','-','SD'),\n",
    "                 vec0                                + X_function('tao7','Mediano','+','SD')])\n",
    "\n",
    "\n",
    "\n",
    "R1_invertida = np.linalg.inv(R1)\n",
    "\n",
    "\n",
    "R2 = np.matrix([vec0,\n",
    "                X_function('tao7','Largo','-',''),\n",
    "                vec0,\n",
    "                X_function('tao7','Largo','-','PD'),\n",
    "                vec0,\n",
    "                X_function('tao7','Largo','-','SD'),])\n",
    "\n",
    "\n",
    "R2_invertida = np.linalg.pinv(R2)\n",
    "\n",
    "\n",
    "\n",
    "Z = W2 - (W1 * R1_invertida) * R2\n",
    "\n",
    "X = Z\n",
    "\n",
    "\n",
    "rate = dataTotal.loc[:,['tao1','tao2','tao4']]\n",
    "sigma2 = pd.DataFrame(0, index=np.arange(len(rate)), columns=[\"a_NSSegSuLP\",\"b_NSSegSuLP\",\"c_NSSegSuLP\"])\n",
    "for i in range(len(rate)):\n",
    "    lm = LinearRegression()\n",
    "    y = rate.iloc[i,:]\n",
    "    lm.fit(X,y)\n",
    "    betaPar = lm.coef_\n",
    "    betaPar = [lm.intercept_.tolist(),betaPar[1],betaPar[2]]\n",
    "    sigma2.iloc[int(i),:]=betaPar\n",
    "\n",
    "    \n",
    "taoSigmaCortoPlazoStr = pd.DataFrame(0, index=np.arange(len(rate)), columns=[\"tao1\",\"tao2\",\"tao4\"])\n",
    "for i in range(len(rate)):  \n",
    "    taoSigmaCortoPlazoStr.loc[i,'tao1'] = sigma2.loc[i,'a_NSSegSuLP'] + sigma2.loc[i,'b_NSSegSuLP']*Z[0,1] + sigma2.loc[i,'c_NSSegSuLP']*Z[0,2]\n",
    "    taoSigmaCortoPlazoStr.loc[i,'tao2'] = sigma2.loc[i,'a_NSSegSuLP'] + sigma2.loc[i,'b_NSSegSuLP']*Z[1,1] + sigma2.loc[i,'c_NSSegSuLP']*Z[1,2]\n",
    "    taoSigmaCortoPlazoStr.loc[i,'tao4'] = sigma2.loc[i,'a_NSSegSuLP'] + sigma2.loc[i,'b_NSSegSuLP']*Z[2,1] + sigma2.loc[i,'c_NSSegSuLP']*Z[2,2]\n",
    "    "
   ]
  },
  {
   "cell_type": "markdown",
   "metadata": {},
   "source": [
    "#### Union de Plazos"
   ]
  },
  {
   "cell_type": "code",
   "execution_count": 15,
   "metadata": {
    "collapsed": true
   },
   "outputs": [],
   "source": [
    "### Se unen todos los yields de largo plazo v1,v2, mediano plazo y corto plazo\n",
    "taoSigmaNelsonSiegelSegmentadoStr = taoSigmaCortoPlazoStr.join(taoSigmaMedianoPlazoStr).join(taoSigmaLargoPlazoV1Str).join(taoSigmaLargoPlazoV2Str)[vencimientosC]"
   ]
  },
  {
   "cell_type": "markdown",
   "metadata": {},
   "source": [
    "# ----------------------------------------------"
   ]
  },
  {
   "cell_type": "markdown",
   "metadata": {},
   "source": [
    "# Graficas"
   ]
  },
  {
   "cell_type": "markdown",
   "metadata": {},
   "source": [
    "### Loadings Segmentado"
   ]
  },
  {
   "cell_type": "code",
   "execution_count": 16,
   "metadata": {},
   "outputs": [
    {
     "name": "stderr",
     "output_type": "stream",
     "text": [
      "C:\\cconda\\lib\\site-packages\\ipykernel_launcher.py:2: RuntimeWarning: invalid value encountered in true_divide\n",
      "  \n",
      "C:\\cconda\\lib\\site-packages\\ipykernel_launcher.py:7: RuntimeWarning: invalid value encountered in true_divide\n",
      "  import sys\n"
     ]
    },
    {
     "data": {
      "image/png": "[encoded data removed]",
      "text/plain": [
       "<matplotlib.figure.Figure at 0x20ab9e9cbe0>"
      ]
     },
     "metadata": {},
     "output_type": "display_data"
    }
   ],
   "source": [
    "def g(term,lambDa = 0.0609):\n",
    "    resultado = (1 - exp(-lambDa*term)) / (lambDa*term)\n",
    "    return resultado\n",
    "\n",
    "\n",
    "def h(term,lambDa = 0.0609):\n",
    "    resultado = ((1 - exp(-lambDa*term)) / (lambDa*term)) - exp(-lambDa*term)\n",
    "    return resultado\n",
    "\n",
    "maturityPaper = np.array(range(0,121))\n",
    "gValor = g(maturityPaper)\n",
    "hValor = h(maturityPaper)\n",
    "vec1 = list(np.repeat(1,len(maturityPaper)))\n",
    "grafica2 = pd.DataFrame.from_dict({'1':vec1,'g':gValor,'h':hValor})\n",
    "grafica2.plot()\n",
    "plt.xlabel('Maturity (Months)')\n",
    "plt.savefig(os.path.join(pathGraficas,'FactorLoadingsNS3'))\n",
    "plt.show()"
   ]
  },
  {
   "cell_type": "markdown",
   "metadata": {},
   "source": [
    "### Loadings Segmentado Fuertemente"
   ]
  },
  {
   "cell_type": "code",
   "execution_count": 17,
   "metadata": {},
   "outputs": [
    {
     "name": "stderr",
     "output_type": "stream",
     "text": [
      "C:\\cconda\\lib\\site-packages\\ipykernel_launcher.py:3: RuntimeWarning: invalid value encountered in true_divide\n",
      "  This is separate from the ipykernel package so we can avoid doing imports until\n",
      "C:\\cconda\\lib\\site-packages\\ipykernel_launcher.py:8: RuntimeWarning: invalid value encountered in true_divide\n",
      "  \n"
     ]
    },
    {
     "data": {
      "image/png": "[encoded data removed]",
      "text/plain": [
       "<matplotlib.figure.Figure at 0x20aba19c978>"
      ]
     },
     "metadata": {},
     "output_type": "display_data"
    }
   ],
   "source": [
    "def g(term,termImenos,lambDa = 0.0609, p = 0.5):\n",
    "    A = term - termImenos*(1-p)\n",
    "    resultado = (1 - exp(-lambDa*A)) / (lambDa*A)\n",
    "    return resultado\n",
    "\n",
    "def h(term,termImenos,lambDa = 0.0609, p = 0.5):\n",
    "    A = term - termImenos*(1-p)\n",
    "    resultado = ((1 - exp(-lambDa*A)) / (lambDa*A)) - exp(-lambDa*A)\n",
    "    return resultado\n",
    "\n",
    "maturityPaper1 = np.array(range(0,15))\n",
    "maturityPaper2 = np.array(range(16,54))\n",
    "maturityPaper3 = np.array(range(55,107))\n",
    "maturityPaper4 = np.array(range(108,120))\n",
    "\n",
    "gValor1 = g(maturityPaper1,0)\n",
    "gValor2 = g(maturityPaper2,16)\n",
    "gValor3 = g(maturityPaper3,55)\n",
    "gValor4 = g(maturityPaper4,108)\n",
    "gValor = np.append(np.append(gValor1,gValor2),np.append(gValor3,gValor4))\n",
    "\n",
    "hValor1 = h(maturityPaper1,0)\n",
    "hValor2 = h(maturityPaper2,16)\n",
    "hValor3 = h(maturityPaper3,55)\n",
    "hValor4 = h(maturityPaper4,108)\n",
    "hValor = np.append(np.append(hValor1,hValor2),np.append(hValor3,hValor4))\n",
    "\n",
    "vec1 = list(np.repeat(1,len(hValor)))\n",
    "\n",
    "grafica2 = pd.DataFrame.from_dict({'1':vec1,'g':gValor,'h':hValor})\n",
    "grafica2.plot()\n",
    "plt.axvline(x=16)\n",
    "plt.axvline(x=55)\n",
    "plt.axvline(x=108)\n",
    "plt.xlabel('Maturity (Months)')\n",
    "plt.savefig(os.path.join(pathGraficas,'FactorLoadingsNS3Strong'))\n",
    "plt.show()"
   ]
  },
  {
   "cell_type": "markdown",
   "metadata": {},
   "source": [
    "### Modelo Segmentado"
   ]
  },
  {
   "cell_type": "code",
   "execution_count": 18,
   "metadata": {
    "scrolled": true
   },
   "outputs": [
    {
     "data": {
      "image/png": "[encoded data removed]",
      "text/plain": [
       "<matplotlib.figure.Figure at 0x20ab9e9cd30>"
      ]
     },
     "metadata": {},
     "output_type": "display_data"
    }
   ],
   "source": [
    "plt.plot(['t1','t2','t3','t4','t5','t6','t7','t8','t9','t10','t11'],\n",
    "[0.2,0.29,0.36,0.41,0.46,0.5,0.54,0.59,0.62,0.64,0.66],'b')\n",
    "plt.xlabel('Nodes')\n",
    "plt.ylabel('Yield')\n",
    "plt.axvline(x='t4')\n",
    "plt.axvline(x='t7')\n",
    "plt.savefig(os.path.join(pathGraficas,'nodos'))\n",
    "plt.show()"
   ]
  },
  {
   "cell_type": "markdown",
   "metadata": {},
   "source": [
    "### Grafica de todos los yields"
   ]
  },
  {
   "cell_type": "code",
   "execution_count": 19,
   "metadata": {
    "scrolled": true
   },
   "outputs": [
    {
     "data": {
      "image/png": "[encoded data removed]",
      "text/plain": [
       "<matplotlib.figure.Figure at 0x20ab9e8f7b8>"
      ]
     },
     "metadata": {},
     "output_type": "display_data"
    }
   ],
   "source": [
    "dataTotal.index.names = ['Date']\n",
    "dataTotal.columns =['1M','3M','6M','1Y','3Y','5Y','7Y','9Y','11Y','13Y','15Y']\n",
    "dataTotal.plot()\n",
    "plt.ylabel('Yield')\n",
    "plt.savefig(os.path.join(pathGraficas,'yields'))\n",
    "plt.show()"
   ]
  },
  {
   "cell_type": "markdown",
   "metadata": {},
   "source": [
    "### Grafica de todos los yields mayor o igual a 1 an\\o"
   ]
  },
  {
   "cell_type": "code",
   "execution_count": 20,
   "metadata": {
    "scrolled": true
   },
   "outputs": [
    {
     "data": {
      "image/png": "[encoded data removed]",
      "text/plain": [
       "<matplotlib.figure.Figure at 0x20ab9e7aba8>"
      ]
     },
     "metadata": {},
     "output_type": "display_data"
    }
   ],
   "source": [
    "dataTotal[['1Y','3Y','5Y','7Y','9Y','11Y','13Y','15Y']].plot()\n",
    "plt.ylabel('Yield')\n",
    "plt.savefig(os.path.join(pathGraficas,'yieldsmayor1'))\n",
    "plt.show()"
   ]
  },
  {
   "cell_type": "markdown",
   "metadata": {},
   "source": [
    "### Grafica de todos los yields menores a 1 an\\o"
   ]
  },
  {
   "cell_type": "code",
   "execution_count": 21,
   "metadata": {
    "scrolled": true
   },
   "outputs": [
    {
     "data": {
      "image/png": "[encoded data removed]",
      "text/plain": [
       "<matplotlib.figure.Figure at 0x20ab9e7a940>"
      ]
     },
     "metadata": {},
     "output_type": "display_data"
    }
   ],
   "source": [
    "dataTotal[['1M','3M','6M']].plot()\n",
    "plt.ylabel('Yield')\n",
    "plt.savefig(os.path.join(pathGraficas,'yieldsmenor1'))\n",
    "plt.show()"
   ]
  },
  {
   "cell_type": "code",
   "execution_count": 22,
   "metadata": {},
   "outputs": [
    {
     "data": {
      "image/png": "[encoded data removed]",
      "text/plain": [
       "<matplotlib.figure.Figure at 0x20aba626c50>"
      ]
     },
     "metadata": {},
     "output_type": "display_data"
    }
   ],
   "source": [
    "i = 800\n",
    "plt.plot(['1M','3M','6M','1Y','3Y','5Y','7Y','9Y','11Y','13Y','15Y'],\n",
    "         taoSigmaNelsonSiegelClasico.iloc[i,:],'b',\n",
    "         ['1M','3M','6M','1Y','3Y','5Y','7Y','9Y','11Y','13Y','15Y'],\n",
    "         dataTotal.iloc[i,:],'r--',\n",
    "        ['1M','3M','6M','1Y','3Y','5Y','7Y','9Y','11Y','13Y','15Y'],\n",
    "        taoSigmaNelsonSiegelSegmentado.iloc[i,:],'g',\n",
    "        ['1M','3M','6M','1Y','3Y','5Y','7Y','9Y','11Y','13Y','15Y'],\n",
    "        taoSigmaNelsonSiegelSegmentadoStr.iloc[i,:])\n",
    "plt.xlabel('Maturity')\n",
    "plt.legend(['NS3','Real','NS3 Segmented','NS3 Strongly Segmented'])\n",
    "plt.savefig(os.path.join(pathGraficas,'ComparisonModels'))\n",
    "plt.show()\n",
    "\n"
   ]
  },
  {
   "cell_type": "markdown",
   "metadata": {},
   "source": [
    "## MSE entre NS3 y NS3 Segmented Fitted Yields"
   ]
  },
  {
   "cell_type": "code",
   "execution_count": 42,
   "metadata": {
    "collapsed": true
   },
   "outputs": [],
   "source": [
    "NS3 = (pd.DataFrame(np.sqrt((taoSigmaNelsonSiegelClasico.values - dataTotal.values)**2)).apply(np.mean,0)*100).values"
   ]
  },
  {
   "cell_type": "code",
   "execution_count": 43,
   "metadata": {
    "collapsed": true
   },
   "outputs": [],
   "source": [
    "NS3_Segmented = (pd.DataFrame(np.sqrt((taoSigmaNelsonSiegelSegmentado.values - dataTotal.values)**2)).apply(np.mean,0)*100).values"
   ]
  },
  {
   "cell_type": "code",
   "execution_count": 44,
   "metadata": {
    "collapsed": true
   },
   "outputs": [],
   "source": [
    "NS3_Segmented_Strongly = (pd.DataFrame(np.sqrt((taoSigmaNelsonSiegelSegmentadoStr.values - dataTotal.values)**2)).apply(np.mean,0)*100).values"
   ]
  },
  {
   "cell_type": "code",
   "execution_count": 45,
   "metadata": {
    "collapsed": true
   },
   "outputs": [],
   "source": [
    "MSE_Comparativo = pd.DataFrame({'NS3':NS3,'NS3_Segmented':NS3_Segmented,'NS3_Segmented_Strongly':NS3_Segmented_Strongly},index=['1M','3M','6M','1Y','3Y','5Y','7Y','9Y','11Y','13Y','15Y'])"
   ]
  },
  {
   "cell_type": "code",
   "execution_count": 46,
   "metadata": {
    "collapsed": true
   },
   "outputs": [],
   "source": [
    "MSE_Comparativo = MSE_Comparativo.reset_index()"
   ]
  },
  {
   "cell_type": "code",
   "execution_count": 47,
   "metadata": {
    "collapsed": true
   },
   "outputs": [],
   "source": [
    "MSE_Comparativo.columns = ['Maturity', 'NS3', 'NS3 Segmented','NS3 Stronly Segmented'] "
   ]
  },
  {
   "cell_type": "code",
   "execution_count": 48,
   "metadata": {
    "collapsed": true
   },
   "outputs": [],
   "source": [
    "MSE_Comparativo.to_latex(index=False,bold_rows=True ,buf=os.path.join(pathGraficas,'tablaInSample'))"
   ]
  }
 ],
 "metadata": {
  "kernelspec": {
   "display_name": "Python 3",
   "language": "python",
   "name": "python3"
  },
  "language_info": {
   "codemirror_mode": {
    "name": "ipython",
    "version": 3
   },
   "file_extension": ".py",
   "mimetype": "text/x-python",
   "name": "python",
   "nbconvert_exporter": "python",
   "pygments_lexer": "ipython3",
   "version": "3.6.1"
  },
  "nbTranslate": {
   "displayLangs": [
    "*"
   ],
   "hotkey": "alt-t",
   "langInMainMenu": true,
   "sourceLang": "en",
   "targetLang": "fr",
   "useGoogleTranslate": true
  }
 },
 "nbformat": 4,
 "nbformat_minor": 2
}
