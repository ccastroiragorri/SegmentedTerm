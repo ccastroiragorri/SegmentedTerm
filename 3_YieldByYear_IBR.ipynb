{
 "cells": [
  {
   "cell_type": "code",
   "execution_count": 1,
   "metadata": {
    "collapsed": true
   },
   "outputs": [],
   "source": [
    "import os \n",
    "import pandas as pd\n",
    "import numpy as np\n",
    "pd.options.display.max_rows = 3000\n",
    "\n",
    "pathTesis = os.getcwd()\n",
    "pathBases = os.path.join(pathTesis,'bases/DatosPrecia/PreciosConColumnas')\n",
    "pathYield = os.path.join(pathTesis,'bases/DatosPrecia/yield')\n",
    "pathMaturity = os.path.join(pathTesis,'bases/DatosPrecia/tablaMaturity')\n",
    "pathSpline = os.path.join(pathTesis,'bases/DatosPrecia/tablaSpline')\n",
    "pathibr = os.path.join(pathTesis,'bases/IBR')\n",
    "pathndata = os.path.join(pathTesis,'bases/ndatos')"
   ]
  },
  {
   "cell_type": "code",
   "execution_count": 2,
   "metadata": {
    "collapsed": true
   },
   "outputs": [],
   "source": [
    "#List of Available bonds for each year\n",
    "resumenMaturity = pd.read_csv('E:/Documentos/Python/TesisJuanFelipe/bases/ResumenMaturityN.csv',sep=\";\")"
   ]
  },
  {
   "cell_type": "code",
   "execution_count": 3,
   "metadata": {},
   "outputs": [
    {
     "data": {
      "text/html": [
       "<div>\n",
       "<style>\n",
       "    .dataframe thead tr:only-child th {\n",
       "        text-align: right;\n",
       "    }\n",
       "\n",
       "    .dataframe thead th {\n",
       "        text-align: left;\n",
       "    }\n",
       "\n",
       "    .dataframe tbody tr th {\n",
       "        vertical-align: top;\n",
       "    }\n",
       "</style>\n",
       "<table border=\"1\" class=\"dataframe\">\n",
       "  <thead>\n",
       "    <tr style=\"text-align: right;\">\n",
       "      <th></th>\n",
       "      <th>Nemotecnico</th>\n",
       "      <th>YtoM</th>\n",
       "      <th>Ano</th>\n",
       "    </tr>\n",
       "  </thead>\n",
       "  <tbody>\n",
       "    <tr>\n",
       "      <th>0</th>\n",
       "      <td>TFIT02150114</td>\n",
       "      <td>1.0</td>\n",
       "      <td>2013</td>\n",
       "    </tr>\n",
       "    <tr>\n",
       "      <th>1</th>\n",
       "      <td>TFIT06140514</td>\n",
       "      <td>1.4</td>\n",
       "      <td>2013</td>\n",
       "    </tr>\n",
       "    <tr>\n",
       "      <th>2</th>\n",
       "      <td>TFIT10120914</td>\n",
       "      <td>1.7</td>\n",
       "      <td>2013</td>\n",
       "    </tr>\n",
       "    <tr>\n",
       "      <th>3</th>\n",
       "      <td>TFIT02121114</td>\n",
       "      <td>1.9</td>\n",
       "      <td>2013</td>\n",
       "    </tr>\n",
       "    <tr>\n",
       "      <th>4</th>\n",
       "      <td>TFIT10281015</td>\n",
       "      <td>2.8</td>\n",
       "      <td>2013</td>\n",
       "    </tr>\n",
       "  </tbody>\n",
       "</table>\n",
       "</div>"
      ],
      "text/plain": [
       "    Nemotecnico  YtoM   Ano\n",
       "0  TFIT02150114   1.0  2013\n",
       "1  TFIT06140514   1.4  2013\n",
       "2  TFIT10120914   1.7  2013\n",
       "3  TFIT02121114   1.9  2013\n",
       "4  TFIT10281015   2.8  2013"
      ]
     },
     "execution_count": 3,
     "metadata": {},
     "output_type": "execute_result"
    }
   ],
   "source": [
    "resumenMaturity.head()"
   ]
  },
  {
   "cell_type": "markdown",
   "metadata": {},
   "source": [
    "## Tasas Medias y Largas por año"
   ]
  },
  {
   "cell_type": "code",
   "execution_count": 4,
   "metadata": {},
   "outputs": [
    {
     "name": "stdout",
     "output_type": "stream",
     "text": [
      "2013\n",
      "2014\n",
      "2015\n",
      "2016\n",
      "2017\n",
      "2018\n"
     ]
    }
   ],
   "source": [
    "medioLargo = []\n",
    "for nom in os.listdir(pathYield):\n",
    "    periodo = int(nom.replace('_yield.csv','')[-8:-4]) #year\n",
    "    columnasIniciales = resumenMaturity[resumenMaturity['Ano']==periodo]['Nemotecnico'].values #bonds from the year\n",
    "    print(periodo)\n",
    "    dataSecundaria = pd.read_csv(os.path.join(pathYield,nom),sep='|')[['Fecha']+list(columnasIniciales)]\n",
    "    dataSecundaria.columns = ['Fecha'] + list(resumenMaturity[resumenMaturity['Ano']==periodo]['YtoM'].values)\n",
    "    dataSecundaria.index=dataSecundaria.Fecha\n",
    "    medioLargo.append(dataSecundaria.drop(['Fecha'],axis=1))    "
   ]
  },
  {
   "cell_type": "code",
   "execution_count": 5,
   "metadata": {},
   "outputs": [
    {
     "name": "stdout",
     "output_type": "stream",
     "text": [
      "<class 'pandas.core.frame.DataFrame'>\n",
      "Index: 365 entries, 2013-01-01 to 2013-12-31\n",
      "Data columns (total 14 columns):\n",
      "1.0     363 non-null float64\n",
      "1.4     365 non-null float64\n",
      "1.7     364 non-null float64\n",
      "1.9     363 non-null float64\n",
      "2.8     365 non-null float64\n",
      "2.9     364 non-null float64\n",
      "3.5     365 non-null float64\n",
      "5.8     365 non-null float64\n",
      "5.9     329 non-null float64\n",
      "7.6     365 non-null float64\n",
      "9.3     365 non-null float64\n",
      "11.6    365 non-null float64\n",
      "13.7    365 non-null float64\n",
      "15.3    356 non-null float64\n",
      "dtypes: float64(14)\n",
      "memory usage: 42.8+ KB\n"
     ]
    }
   ],
   "source": [
    "medioLargo[0].info()"
   ]
  },
  {
   "cell_type": "markdown",
   "metadata": {},
   "source": [
    "## Tasas Cortas IBR"
   ]
  },
  {
   "cell_type": "code",
   "execution_count": 6,
   "metadata": {
    "collapsed": true
   },
   "outputs": [],
   "source": [
    "def mktasas(x):\n",
    "    try:\n",
    "        return float(x[0:5])\n",
    "    except ValueError:\n",
    "        return np.nan"
   ]
  },
  {
   "cell_type": "code",
   "execution_count": 7,
   "metadata": {
    "collapsed": true
   },
   "outputs": [],
   "source": [
    "cortos = []\n",
    "for nom in os.listdir(pathibr):\n",
    "    dataCortos = pd.read_csv(os.path.join(pathibr,nom),sep=',')\n",
    "    dataCortos['fecha'] = pd.to_datetime(dataCortos['fecha'],dayfirst=True)\n",
    "    dataCortos=dataCortos[(dataCortos['agente']=='IBR')&(dataCortos['tipo_tasa']=='Tasa nominal')]\n",
    "    dataCortos['tasas']=dataCortos.valor_tasa.apply(mktasas)\n",
    "    dataCortos=dataCortos[['fecha','tasas']]\n",
    "    dataCortos.columns=['fecha',nom.replace('.csv','')]\n",
    "    cortos.append(dataCortos)"
   ]
  },
  {
   "cell_type": "code",
   "execution_count": 8,
   "metadata": {
    "collapsed": true
   },
   "outputs": [],
   "source": [
    "ibr_o1=cortos[0].merge(cortos[3],on='fecha')\n",
    "ibr_o13=ibr_o1.merge(cortos[2],on='fecha')\n",
    "ibr=ibr_o13.merge(cortos[1],how='left',on='fecha')\n",
    "ibr.columns=['Fecha','0.004','0.1','0.3','0.5']\n",
    "ibr.index=ibr.Fecha\n",
    "ibr=ibr.drop(['Fecha'],axis=1)"
   ]
  },
  {
   "cell_type": "code",
   "execution_count": null,
   "metadata": {
    "collapsed": true
   },
   "outputs": [],
   "source": [
    "#import matplotlib.pyplot as plt\n",
    "#import matplotlib.patches as mpatches"
   ]
  },
  {
   "cell_type": "code",
   "execution_count": null,
   "metadata": {
    "collapsed": true
   },
   "outputs": [],
   "source": [
    "#ibr.index.names = ['Date']\n",
    "#ibr.plot()\n",
    "#plt.ylabel('Rates')\n",
    "#plt.show()"
   ]
  },
  {
   "cell_type": "markdown",
   "metadata": {},
   "source": [
    "## Datos para cada año"
   ]
  },
  {
   "cell_type": "code",
   "execution_count": 9,
   "metadata": {
    "collapsed": true
   },
   "outputs": [],
   "source": [
    "yearid={'2013':0,'2014':1,'2015':2,'2016':3,'2017':4,'2018':5}"
   ]
  },
  {
   "cell_type": "code",
   "execution_count": 18,
   "metadata": {
    "collapsed": true
   },
   "outputs": [],
   "source": [
    "year='2015'"
   ]
  },
  {
   "cell_type": "code",
   "execution_count": 19,
   "metadata": {
    "collapsed": true
   },
   "outputs": [],
   "source": [
    "term=ibr[year].merge(medioLargo[yearid[year]],how='right',left_index=True,right_index=True)\n",
    "term=term.fillna(method='pad', axis=0)"
   ]
  },
  {
   "cell_type": "code",
   "execution_count": 20,
   "metadata": {},
   "outputs": [
    {
     "data": {
      "text/html": [
       "<div>\n",
       "<style>\n",
       "    .dataframe thead tr:only-child th {\n",
       "        text-align: right;\n",
       "    }\n",
       "\n",
       "    .dataframe thead th {\n",
       "        text-align: left;\n",
       "    }\n",
       "\n",
       "    .dataframe tbody tr th {\n",
       "        vertical-align: top;\n",
       "    }\n",
       "</style>\n",
       "<table border=\"1\" class=\"dataframe\">\n",
       "  <thead>\n",
       "    <tr style=\"text-align: right;\">\n",
       "      <th></th>\n",
       "      <th>0.004</th>\n",
       "      <th>0.1</th>\n",
       "      <th>0.3</th>\n",
       "      <th>0.5</th>\n",
       "      <th>1.5</th>\n",
       "      <th>1.5</th>\n",
       "      <th>3.8</th>\n",
       "      <th>3.9</th>\n",
       "      <th>4.7</th>\n",
       "      <th>5.6</th>\n",
       "      <th>7.3</th>\n",
       "      <th>9.6</th>\n",
       "      <th>11.7</th>\n",
       "      <th>13.3</th>\n",
       "      <th>15.7</th>\n",
       "    </tr>\n",
       "    <tr>\n",
       "      <th>Fecha</th>\n",
       "      <th></th>\n",
       "      <th></th>\n",
       "      <th></th>\n",
       "      <th></th>\n",
       "      <th></th>\n",
       "      <th></th>\n",
       "      <th></th>\n",
       "      <th></th>\n",
       "      <th></th>\n",
       "      <th></th>\n",
       "      <th></th>\n",
       "      <th></th>\n",
       "      <th></th>\n",
       "      <th></th>\n",
       "      <th></th>\n",
       "    </tr>\n",
       "  </thead>\n",
       "  <tbody>\n",
       "    <tr>\n",
       "      <th>2015-01-01</th>\n",
       "      <td>NaN</td>\n",
       "      <td>NaN</td>\n",
       "      <td>NaN</td>\n",
       "      <td>NaN</td>\n",
       "      <td>5.14</td>\n",
       "      <td>5.11</td>\n",
       "      <td>6.10</td>\n",
       "      <td>5.90</td>\n",
       "      <td>5.99</td>\n",
       "      <td>6.45</td>\n",
       "      <td>6.92</td>\n",
       "      <td>7.26</td>\n",
       "      <td>7.47</td>\n",
       "      <td>7.49</td>\n",
       "      <td>NaN</td>\n",
       "    </tr>\n",
       "    <tr>\n",
       "      <th>2015-01-02</th>\n",
       "      <td>4.360</td>\n",
       "      <td>4.351</td>\n",
       "      <td>4.359</td>\n",
       "      <td>NaN</td>\n",
       "      <td>5.12</td>\n",
       "      <td>5.07</td>\n",
       "      <td>6.01</td>\n",
       "      <td>5.86</td>\n",
       "      <td>5.97</td>\n",
       "      <td>6.35</td>\n",
       "      <td>6.84</td>\n",
       "      <td>7.23</td>\n",
       "      <td>7.44</td>\n",
       "      <td>7.49</td>\n",
       "      <td>NaN</td>\n",
       "    </tr>\n",
       "    <tr>\n",
       "      <th>2015-01-03</th>\n",
       "      <td>4.360</td>\n",
       "      <td>4.351</td>\n",
       "      <td>4.359</td>\n",
       "      <td>NaN</td>\n",
       "      <td>5.12</td>\n",
       "      <td>5.07</td>\n",
       "      <td>6.01</td>\n",
       "      <td>5.85</td>\n",
       "      <td>5.97</td>\n",
       "      <td>6.35</td>\n",
       "      <td>6.84</td>\n",
       "      <td>7.23</td>\n",
       "      <td>7.44</td>\n",
       "      <td>7.49</td>\n",
       "      <td>NaN</td>\n",
       "    </tr>\n",
       "    <tr>\n",
       "      <th>2015-01-04</th>\n",
       "      <td>4.360</td>\n",
       "      <td>4.351</td>\n",
       "      <td>4.359</td>\n",
       "      <td>NaN</td>\n",
       "      <td>5.12</td>\n",
       "      <td>5.07</td>\n",
       "      <td>6.01</td>\n",
       "      <td>5.85</td>\n",
       "      <td>5.97</td>\n",
       "      <td>6.35</td>\n",
       "      <td>6.84</td>\n",
       "      <td>7.23</td>\n",
       "      <td>7.44</td>\n",
       "      <td>7.49</td>\n",
       "      <td>NaN</td>\n",
       "    </tr>\n",
       "    <tr>\n",
       "      <th>2015-01-05</th>\n",
       "      <td>4.362</td>\n",
       "      <td>4.352</td>\n",
       "      <td>4.362</td>\n",
       "      <td>NaN</td>\n",
       "      <td>5.13</td>\n",
       "      <td>5.14</td>\n",
       "      <td>6.06</td>\n",
       "      <td>5.85</td>\n",
       "      <td>5.99</td>\n",
       "      <td>6.42</td>\n",
       "      <td>6.92</td>\n",
       "      <td>7.26</td>\n",
       "      <td>7.35</td>\n",
       "      <td>7.50</td>\n",
       "      <td>NaN</td>\n",
       "    </tr>\n",
       "  </tbody>\n",
       "</table>\n",
       "</div>"
      ],
      "text/plain": [
       "            0.004    0.1    0.3  0.5   1.5   1.5   3.8   3.9   4.7   5.6  \\\n",
       "Fecha                                                                      \n",
       "2015-01-01    NaN    NaN    NaN  NaN  5.14  5.11  6.10  5.90  5.99  6.45   \n",
       "2015-01-02  4.360  4.351  4.359  NaN  5.12  5.07  6.01  5.86  5.97  6.35   \n",
       "2015-01-03  4.360  4.351  4.359  NaN  5.12  5.07  6.01  5.85  5.97  6.35   \n",
       "2015-01-04  4.360  4.351  4.359  NaN  5.12  5.07  6.01  5.85  5.97  6.35   \n",
       "2015-01-05  4.362  4.352  4.362  NaN  5.13  5.14  6.06  5.85  5.99  6.42   \n",
       "\n",
       "             7.3   9.6  11.7  13.3  15.7  \n",
       "Fecha                                     \n",
       "2015-01-01  6.92  7.26  7.47  7.49   NaN  \n",
       "2015-01-02  6.84  7.23  7.44  7.49   NaN  \n",
       "2015-01-03  6.84  7.23  7.44  7.49   NaN  \n",
       "2015-01-04  6.84  7.23  7.44  7.49   NaN  \n",
       "2015-01-05  6.92  7.26  7.35  7.50   NaN  "
      ]
     },
     "execution_count": 20,
     "metadata": {},
     "output_type": "execute_result"
    }
   ],
   "source": [
    "term.head()"
   ]
  },
  {
   "cell_type": "code",
   "execution_count": 21,
   "metadata": {
    "collapsed": true
   },
   "outputs": [],
   "source": [
    "outdata=term.reset_index()\n",
    "outdata.to_csv(os.path.join(pathndata,str(year)+'data.csv'),sep='|',index=False)"
   ]
  },
  {
   "cell_type": "code",
   "execution_count": null,
   "metadata": {
    "collapsed": true
   },
   "outputs": [],
   "source": []
  }
 ],
 "metadata": {
  "kernelspec": {
   "display_name": "Python 3",
   "language": "python",
   "name": "python3"
  },
  "language_info": {
   "codemirror_mode": {
    "name": "ipython",
    "version": 3
   },
   "file_extension": ".py",
   "mimetype": "text/x-python",
   "name": "python",
   "nbconvert_exporter": "python",
   "pygments_lexer": "ipython3",
   "version": "3.6.1"
  },
  "nbTranslate": {
   "displayLangs": [
    "*"
   ],
   "hotkey": "alt-t",
   "langInMainMenu": true,
   "sourceLang": "en",
   "targetLang": "fr",
   "useGoogleTranslate": true
  }
 },
 "nbformat": 4,
 "nbformat_minor": 2
}
