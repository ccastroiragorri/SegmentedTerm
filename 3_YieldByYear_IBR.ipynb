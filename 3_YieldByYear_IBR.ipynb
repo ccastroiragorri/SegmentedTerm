{
 "cells": [
  {
   "cell_type": "code",
   "execution_count": 256,
   "metadata": {
    "collapsed": true
   },
   "outputs": [],
   "source": [
    "import os \n",
    "import pandas as pd\n",
    "import numpy as np\n",
    "pd.options.display.max_rows = 3000\n",
    "\n",
    "pathTesis = os.getcwd()\n",
    "pathBases = os.path.join(pathTesis,'bases/DatosPrecia/PreciosConColumnas')\n",
    "pathYield = os.path.join(pathTesis,'bases/DatosPrecia/yield')\n",
    "pathMaturity = os.path.join(pathTesis,'bases/DatosPrecia/tablaMaturity')\n",
    "pathSpline = os.path.join(pathTesis,'bases/DatosPrecia/tablaSpline')\n",
    "pathibr = os.path.join(pathTesis,'bases/IBR')\n",
    "pathndata = os.path.join(pathTesis,'bases/ndatos')"
   ]
  },
  {
   "cell_type": "code",
   "execution_count": 3,
   "metadata": {},
   "outputs": [],
   "source": [
    "#List of Available bonds for each year\n",
    "resumenMaturity = pd.read_csv('E:/Documentos/Python/TesisJuanFelipe/bases/ResumenMaturityN.csv',sep=\";\")"
   ]
  },
  {
   "cell_type": "code",
   "execution_count": 173,
   "metadata": {},
   "outputs": [
    {
     "data": {
      "text/html": [
       "<div>\n",
       "<style>\n",
       "    .dataframe thead tr:only-child th {\n",
       "        text-align: right;\n",
       "    }\n",
       "\n",
       "    .dataframe thead th {\n",
       "        text-align: left;\n",
       "    }\n",
       "\n",
       "    .dataframe tbody tr th {\n",
       "        vertical-align: top;\n",
       "    }\n",
       "</style>\n",
       "<table border=\"1\" class=\"dataframe\">\n",
       "  <thead>\n",
       "    <tr style=\"text-align: right;\">\n",
       "      <th></th>\n",
       "      <th>Nemotecnico</th>\n",
       "      <th>YtoM</th>\n",
       "      <th>Ano</th>\n",
       "    </tr>\n",
       "  </thead>\n",
       "  <tbody>\n",
       "    <tr>\n",
       "      <th>0</th>\n",
       "      <td>TFIT02150114</td>\n",
       "      <td>1.0</td>\n",
       "      <td>2013</td>\n",
       "    </tr>\n",
       "    <tr>\n",
       "      <th>1</th>\n",
       "      <td>TFIT06140514</td>\n",
       "      <td>1.4</td>\n",
       "      <td>2013</td>\n",
       "    </tr>\n",
       "    <tr>\n",
       "      <th>2</th>\n",
       "      <td>TFIT10120914</td>\n",
       "      <td>1.7</td>\n",
       "      <td>2013</td>\n",
       "    </tr>\n",
       "    <tr>\n",
       "      <th>3</th>\n",
       "      <td>TFIT02121114</td>\n",
       "      <td>1.9</td>\n",
       "      <td>2013</td>\n",
       "    </tr>\n",
       "    <tr>\n",
       "      <th>4</th>\n",
       "      <td>TFIT10281015</td>\n",
       "      <td>2.8</td>\n",
       "      <td>2013</td>\n",
       "    </tr>\n",
       "  </tbody>\n",
       "</table>\n",
       "</div>"
      ],
      "text/plain": [
       "    Nemotecnico  YtoM   Ano\n",
       "0  TFIT02150114   1.0  2013\n",
       "1  TFIT06140514   1.4  2013\n",
       "2  TFIT10120914   1.7  2013\n",
       "3  TFIT02121114   1.9  2013\n",
       "4  TFIT10281015   2.8  2013"
      ]
     },
     "execution_count": 173,
     "metadata": {},
     "output_type": "execute_result"
    }
   ],
   "source": [
    "resumenMaturity.head()"
   ]
  },
  {
   "cell_type": "markdown",
   "metadata": {},
   "source": [
    "## Tasas Medias y Largas por año"
   ]
  },
  {
   "cell_type": "code",
   "execution_count": 175,
   "metadata": {},
   "outputs": [
    {
     "name": "stdout",
     "output_type": "stream",
     "text": [
      "2013\n",
      "2014\n",
      "2015\n",
      "2016\n",
      "2017\n",
      "2018\n"
     ]
    }
   ],
   "source": [
    "medioLargo = []\n",
    "for nom in os.listdir(pathYield):\n",
    "    periodo = int(nom.replace('_yield.csv','')[-8:-4]) #year\n",
    "    columnasIniciales = resumenMaturity[resumenMaturity['Ano']==periodo]['Nemotecnico'].values #bonds from the year\n",
    "    print(periodo)\n",
    "    dataSecundaria = pd.read_csv(os.path.join(pathYield,nom),sep='|')[['Fecha']+list(columnasIniciales)]\n",
    "    dataSecundaria.columns = ['Fecha'] + list(resumenMaturity[resumenMaturity['Ano']==periodo]['YtoM'].values)\n",
    "    dataSecundaria.index=dataSecundaria.Fecha\n",
    "    medioLargo.append(dataSecundaria.drop(['Fecha'],axis=1))    "
   ]
  },
  {
   "cell_type": "code",
   "execution_count": 182,
   "metadata": {},
   "outputs": [
    {
     "name": "stdout",
     "output_type": "stream",
     "text": [
      "<class 'pandas.core.frame.DataFrame'>\n",
      "Index: 365 entries, 2013-01-01 to 2013-12-31\n",
      "Data columns (total 14 columns):\n",
      "1.0     363 non-null float64\n",
      "1.4     365 non-null float64\n",
      "1.7     364 non-null float64\n",
      "1.9     363 non-null float64\n",
      "2.8     365 non-null float64\n",
      "2.9     364 non-null float64\n",
      "3.5     365 non-null float64\n",
      "5.9     329 non-null float64\n",
      "5.8     365 non-null float64\n",
      "7.6     365 non-null float64\n",
      "9.3     365 non-null float64\n",
      "11.6    365 non-null float64\n",
      "13.7    365 non-null float64\n",
      "15.3    356 non-null float64\n",
      "dtypes: float64(14)\n",
      "memory usage: 42.8+ KB\n"
     ]
    }
   ],
   "source": [
    "medioLargo[0].info()"
   ]
  },
  {
   "cell_type": "markdown",
   "metadata": {},
   "source": [
    "## Tasas Cortas IBR"
   ]
  },
  {
   "cell_type": "code",
   "execution_count": 109,
   "metadata": {
    "collapsed": true
   },
   "outputs": [],
   "source": [
    "def mktasas(x):\n",
    "    try:\n",
    "        return float(x[0:5])\n",
    "    except ValueError:\n",
    "        return np.nan"
   ]
  },
  {
   "cell_type": "code",
   "execution_count": 204,
   "metadata": {
    "collapsed": true
   },
   "outputs": [],
   "source": [
    "cortos = []\n",
    "for nom in os.listdir(pathibr):\n",
    "    dataCortos = pd.read_csv(os.path.join(pathibr,nom),sep=',',parse_dates=[0])\n",
    "    dataCortos=dataCortos[(dataCortos['agente']=='IBR')&(dataCortos['tipo_tasa']=='Tasa nominal')]\n",
    "    dataCortos['tasas']=dataCortos.valor_tasa.apply(mktasas)\n",
    "    dataCortos=dataCortos[['fecha','tasas']]\n",
    "    dataCortos.columns=['fecha',nom.replace('.csv','')]\n",
    "    cortos.append(dataCortos)"
   ]
  },
  {
   "cell_type": "code",
   "execution_count": 206,
   "metadata": {},
   "outputs": [],
   "source": [
    "ibr_o1=cortos[0].merge(cortos[3],on='fecha')\n",
    "ibr_o13=ibr_o1.merge(cortos[2],on='fecha')\n",
    "ibr=ibr_o13.merge(cortos[1],how='left',on='fecha')\n",
    "ibr.columns=['Fecha','O','0.1','0.3','0.5']\n",
    "ibr.index=ibr.Fecha\n",
    "ibr=ibr.drop(['Fecha'],axis=1)"
   ]
  },
  {
   "cell_type": "code",
   "execution_count": 207,
   "metadata": {},
   "outputs": [
    {
     "name": "stdout",
     "output_type": "stream",
     "text": [
      "<class 'pandas.core.frame.DataFrame'>\n",
      "DatetimeIndex: 1612 entries, 2012-01-08 to 2019-03-13\n",
      "Data columns (total 4 columns):\n",
      "O      1612 non-null float64\n",
      "0.1    1612 non-null float64\n",
      "0.3    1612 non-null float64\n",
      "0.5    685 non-null float64\n",
      "dtypes: float64(4)\n",
      "memory usage: 63.0 KB\n"
     ]
    }
   ],
   "source": [
    "ibr.info(200)"
   ]
  },
  {
   "cell_type": "markdown",
   "metadata": {},
   "source": [
    "## Datos para cada año"
   ]
  },
  {
   "cell_type": "code",
   "execution_count": 248,
   "metadata": {
    "collapsed": true
   },
   "outputs": [],
   "source": [
    "yearid={'2013':0,'2014':1,'2015':2,'2016':3,'2017':4,'2018':5}"
   ]
  },
  {
   "cell_type": "code",
   "execution_count": 249,
   "metadata": {
    "collapsed": true
   },
   "outputs": [],
   "source": [
    "year='2013'"
   ]
  },
  {
   "cell_type": "code",
   "execution_count": 251,
   "metadata": {
    "collapsed": true
   },
   "outputs": [],
   "source": [
    "term=ibr[year].merge(medioLargo[yearid[year]],how='right',left_index=True,right_index=True)\n",
    "term=term.fillna(method='pad', axis=0)"
   ]
  },
  {
   "cell_type": "code",
   "execution_count": 262,
   "metadata": {},
   "outputs": [
    {
     "data": {
      "text/html": [
       "<div>\n",
       "<style>\n",
       "    .dataframe thead tr:only-child th {\n",
       "        text-align: right;\n",
       "    }\n",
       "\n",
       "    .dataframe thead th {\n",
       "        text-align: left;\n",
       "    }\n",
       "\n",
       "    .dataframe tbody tr th {\n",
       "        vertical-align: top;\n",
       "    }\n",
       "</style>\n",
       "<table border=\"1\" class=\"dataframe\">\n",
       "  <thead>\n",
       "    <tr style=\"text-align: right;\">\n",
       "      <th></th>\n",
       "      <th>O</th>\n",
       "      <th>0.1</th>\n",
       "      <th>0.3</th>\n",
       "      <th>0.5</th>\n",
       "      <th>1.0</th>\n",
       "      <th>1.4</th>\n",
       "      <th>1.7</th>\n",
       "      <th>1.9</th>\n",
       "      <th>2.8</th>\n",
       "      <th>2.9</th>\n",
       "      <th>3.5</th>\n",
       "      <th>5.9</th>\n",
       "      <th>5.8</th>\n",
       "      <th>7.6</th>\n",
       "      <th>9.3</th>\n",
       "      <th>11.6</th>\n",
       "      <th>13.7</th>\n",
       "      <th>15.3</th>\n",
       "    </tr>\n",
       "    <tr>\n",
       "      <th>Fecha</th>\n",
       "      <th></th>\n",
       "      <th></th>\n",
       "      <th></th>\n",
       "      <th></th>\n",
       "      <th></th>\n",
       "      <th></th>\n",
       "      <th></th>\n",
       "      <th></th>\n",
       "      <th></th>\n",
       "      <th></th>\n",
       "      <th></th>\n",
       "      <th></th>\n",
       "      <th></th>\n",
       "      <th></th>\n",
       "      <th></th>\n",
       "      <th></th>\n",
       "      <th></th>\n",
       "      <th></th>\n",
       "    </tr>\n",
       "  </thead>\n",
       "  <tbody>\n",
       "    <tr>\n",
       "      <th>2013-01-01</th>\n",
       "      <td>NaN</td>\n",
       "      <td>NaN</td>\n",
       "      <td>NaN</td>\n",
       "      <td>NaN</td>\n",
       "      <td>4.55</td>\n",
       "      <td>4.68</td>\n",
       "      <td>4.87</td>\n",
       "      <td>4.72</td>\n",
       "      <td>4.88</td>\n",
       "      <td>5.21</td>\n",
       "      <td>4.99</td>\n",
       "      <td>NaN</td>\n",
       "      <td>5.32</td>\n",
       "      <td>5.44</td>\n",
       "      <td>5.55</td>\n",
       "      <td>5.84</td>\n",
       "      <td>5.93</td>\n",
       "      <td>NaN</td>\n",
       "    </tr>\n",
       "    <tr>\n",
       "      <th>2013-01-02</th>\n",
       "      <td>3.838</td>\n",
       "      <td>3.843</td>\n",
       "      <td>3.770</td>\n",
       "      <td>NaN</td>\n",
       "      <td>4.55</td>\n",
       "      <td>4.69</td>\n",
       "      <td>4.87</td>\n",
       "      <td>4.73</td>\n",
       "      <td>4.91</td>\n",
       "      <td>5.21</td>\n",
       "      <td>4.99</td>\n",
       "      <td>NaN</td>\n",
       "      <td>5.31</td>\n",
       "      <td>5.46</td>\n",
       "      <td>5.53</td>\n",
       "      <td>5.85</td>\n",
       "      <td>5.89</td>\n",
       "      <td>NaN</td>\n",
       "    </tr>\n",
       "    <tr>\n",
       "      <th>2013-01-03</th>\n",
       "      <td>3.625</td>\n",
       "      <td>3.597</td>\n",
       "      <td>3.505</td>\n",
       "      <td>NaN</td>\n",
       "      <td>4.54</td>\n",
       "      <td>4.64</td>\n",
       "      <td>4.83</td>\n",
       "      <td>4.71</td>\n",
       "      <td>4.84</td>\n",
       "      <td>5.21</td>\n",
       "      <td>4.96</td>\n",
       "      <td>NaN</td>\n",
       "      <td>5.29</td>\n",
       "      <td>5.49</td>\n",
       "      <td>5.55</td>\n",
       "      <td>5.83</td>\n",
       "      <td>5.89</td>\n",
       "      <td>NaN</td>\n",
       "    </tr>\n",
       "    <tr>\n",
       "      <th>2013-01-04</th>\n",
       "      <td>3.090</td>\n",
       "      <td>3.125</td>\n",
       "      <td>3.128</td>\n",
       "      <td>NaN</td>\n",
       "      <td>4.55</td>\n",
       "      <td>4.60</td>\n",
       "      <td>4.82</td>\n",
       "      <td>4.71</td>\n",
       "      <td>4.85</td>\n",
       "      <td>5.21</td>\n",
       "      <td>4.97</td>\n",
       "      <td>NaN</td>\n",
       "      <td>5.30</td>\n",
       "      <td>5.55</td>\n",
       "      <td>5.57</td>\n",
       "      <td>5.85</td>\n",
       "      <td>5.90</td>\n",
       "      <td>NaN</td>\n",
       "    </tr>\n",
       "    <tr>\n",
       "      <th>2013-01-05</th>\n",
       "      <td>3.090</td>\n",
       "      <td>3.125</td>\n",
       "      <td>3.128</td>\n",
       "      <td>NaN</td>\n",
       "      <td>4.55</td>\n",
       "      <td>4.60</td>\n",
       "      <td>4.82</td>\n",
       "      <td>4.71</td>\n",
       "      <td>4.85</td>\n",
       "      <td>5.21</td>\n",
       "      <td>4.97</td>\n",
       "      <td>NaN</td>\n",
       "      <td>5.30</td>\n",
       "      <td>5.55</td>\n",
       "      <td>5.57</td>\n",
       "      <td>5.85</td>\n",
       "      <td>5.90</td>\n",
       "      <td>NaN</td>\n",
       "    </tr>\n",
       "  </tbody>\n",
       "</table>\n",
       "</div>"
      ],
      "text/plain": [
       "                O    0.1    0.3  0.5   1.0   1.4   1.7   1.9   2.8   2.9  \\\n",
       "Fecha                                                                      \n",
       "2013-01-01    NaN    NaN    NaN  NaN  4.55  4.68  4.87  4.72  4.88  5.21   \n",
       "2013-01-02  3.838  3.843  3.770  NaN  4.55  4.69  4.87  4.73  4.91  5.21   \n",
       "2013-01-03  3.625  3.597  3.505  NaN  4.54  4.64  4.83  4.71  4.84  5.21   \n",
       "2013-01-04  3.090  3.125  3.128  NaN  4.55  4.60  4.82  4.71  4.85  5.21   \n",
       "2013-01-05  3.090  3.125  3.128  NaN  4.55  4.60  4.82  4.71  4.85  5.21   \n",
       "\n",
       "             3.5  5.9   5.8   7.6   9.3  11.6  13.7  15.3  \n",
       "Fecha                                                      \n",
       "2013-01-01  4.99  NaN  5.32  5.44  5.55  5.84  5.93   NaN  \n",
       "2013-01-02  4.99  NaN  5.31  5.46  5.53  5.85  5.89   NaN  \n",
       "2013-01-03  4.96  NaN  5.29  5.49  5.55  5.83  5.89   NaN  \n",
       "2013-01-04  4.97  NaN  5.30  5.55  5.57  5.85  5.90   NaN  \n",
       "2013-01-05  4.97  NaN  5.30  5.55  5.57  5.85  5.90   NaN  "
      ]
     },
     "execution_count": 262,
     "metadata": {},
     "output_type": "execute_result"
    }
   ],
   "source": [
    "term.head()"
   ]
  },
  {
   "cell_type": "code",
   "execution_count": 255,
   "metadata": {},
   "outputs": [],
   "source": [
    "outdata=term.reset_index()\n",
    "outdata.to_csv(os.path.join(pathndata,str(year)+'data.csv'),sep='|',index=False)"
   ]
  }
 ],
 "metadata": {
  "kernelspec": {
   "display_name": "Python 3",
   "language": "python",
   "name": "python3"
  },
  "language_info": {
   "codemirror_mode": {
    "name": "ipython",
    "version": 3
   },
   "file_extension": ".py",
   "mimetype": "text/x-python",
   "name": "python",
   "nbconvert_exporter": "python",
   "pygments_lexer": "ipython3",
   "version": "3.6.1"
  },
  "nbTranslate": {
   "displayLangs": [
    "*"
   ],
   "hotkey": "alt-t",
   "langInMainMenu": true,
   "sourceLang": "en",
   "targetLang": "fr",
   "useGoogleTranslate": true
  }
 },
 "nbformat": 4,
 "nbformat_minor": 2
}
