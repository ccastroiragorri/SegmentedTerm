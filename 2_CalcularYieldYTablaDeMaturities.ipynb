{
 "cells": [
  {
   "cell_type": "code",
   "execution_count": 13,
   "metadata": {
    "collapsed": true
   },
   "outputs": [],
   "source": [
    "import os \n",
    "import pandas as pd\n",
    "import numpy as np\n",
    "\n",
    "pathTesis = os.getcwd()\n",
    "pathBases = os.path.join(pathTesis,'bases/DatosPrecia/PreciosConColumnas')\n",
    "pathYield = os.path.join(pathTesis,'bases/DatosPrecia/yield')\n",
    "pathMaturity = os.path.join(pathTesis,'bases/DatosPrecia/tablaMaturity')"
   ]
  },
  {
   "cell_type": "code",
   "execution_count": null,
   "metadata": {
    "collapsed": true
   },
   "outputs": [],
   "source": [
    "for nom in os.listdir(pathBases):\n",
    "    nomSinCSV = nom.replace('.csv','')\n",
    "    \n",
    "    ### Leo el archivo entregado por precia pero con columnas\n",
    "    data = pd.read_csv(os.path.join(pathBases,nom),sep='|')\n",
    "\n",
    "    ### Creo un nuevo dataframe solo con las siguientes columnas\n",
    "    nemotecnicos = data[['Nemotecnico','DiasVencimiento']]\n",
    "\n",
    "    ### Agrupo por nemotecnico y creo una nuevacolumna con el maximo de dias por nemotecnico\n",
    "    maturity = (nemotecnicos.groupby(['Nemotecnico'])['DiasVencimiento'].max()/30).\\\n",
    "                                    reset_index().sort_values('DiasVencimiento').reset_index(drop=True)\n",
    "\n",
    "    ### Cambio los nombres    \n",
    "        \n",
    "    maturity.columns = ['Nemotecnico','vencimientoMeses']\n",
    "\n",
    "    ### Redondeo hacia arriba\n",
    "    \n",
    "    maturity.loc[:,'vencimiento'] = np.floor(maturity.loc[:,'vencimientoMeses']) \n",
    "\n",
    "    ### Creo una nueva columna si es menor a 12 entonces es mes y si no es an\\o\n",
    "    \n",
    "    maturity.loc[:,'periodo'] = np.where(maturity.loc[:,'vencimientoMeses']<12,'M','Y')\n",
    "\n",
    "    ### Si es an\\o dividalo entre 12 sino dejelo igual\n",
    "    \n",
    "\n",
    "    maturity.loc[:,'vencimiento'] = np.where(maturity.loc[:,'periodo'] == 'Y',\n",
    "                                             np.floor(maturity.loc[:,'vencimiento'] / 12),\n",
    "                                             maturity.loc[:,'vencimiento'])\n",
    "\n",
    "    ### Vuelvo el vencimiento un entero\n",
    "    \n",
    "    maturity.loc[:,'vencimiento'] = maturity.loc[:,'vencimiento'].astype('int')\n",
    "\n",
    "    ### Concateno las dos columnas vencimiento y periodo\n",
    "\n",
    "    maturity.loc[:,'maturity'] = [str((maturity.loc[i,'vencimiento'])) + maturity.loc[i,'periodo'] for i in range(len(maturity))]\n",
    "\n",
    "    ### Creo un nuevo dataframe con el maturity el nemotecnico y el vencimiento en numero de meses\n",
    "    \n",
    "    tablaMaturity = maturity[['maturity','Nemotecnico','vencimientoMeses']]\n",
    "\n",
    "    nemosOriginal = tablaMaturity.loc[:,'Nemotecnico']\n",
    "    \n",
    "    ### Se calcula el renimiento para cada uno de los nemotecnicos y se pivotea\n",
    "\n",
    "    dataNemos = data[data.loc[:,'Nemotecnico'].isin(nemosOriginal)].reset_index(drop=True)[['Nemotecnico','Fecha','Precio','PrecioAnterior','Spread','PrecioLimpio','DiasVencimiento']]\n",
    "    \n",
    "    dataMaturity = pd.merge(dataNemos,tablaMaturity,on = ['Nemotecnico'], how = 'left').sort_values(['vencimientoMeses','Fecha']).reset_index(drop=True)\n",
    "\n",
    "    dataMaturity.loc[:,'yield'] = dataMaturity.eval(\"((Spread + ((100 - PrecioLimpio)/(DiasVencimiento/365)))/((100 + PrecioLimpio)/2))*100\")\n",
    "\n",
    "    dataMaturity.loc[:,'yield'] = np.round(dataMaturity.loc[:,'yield'],2)\n",
    "    \n",
    "    dataMaturity_0 = dataMaturity[['Fecha','Nemotecnico','yield']]\n",
    "\n",
    "    listaMaturity = list(tablaMaturity.loc[:,'Nemotecnico'].values)\n",
    "\n",
    "    dataMaturity = pd.pivot_table(dataMaturity,values = 'yield',index = ['Fecha'], columns = ['Nemotecnico'] ).reset_index()[['Fecha']+listaMaturity]\n",
    "    dataMaturity = pd.DataFrame(dataMaturity.values,columns= ['Fecha']+listaMaturity)\n",
    "    \n",
    "    dataMaturity.to_csv(os.path.join(pathYield,nomSinCSV + '_yield.csv'),sep='|',index=False)\n",
    "    tablaMaturity.to_csv(os.path.join(pathMaturity,nomSinCSV + '_mat.csv'),sep='|',index=False)"
   ]
  }
 ],
 "metadata": {
  "kernelspec": {
   "display_name": "Python 3",
   "language": "python",
   "name": "python3"
  },
  "language_info": {
   "codemirror_mode": {
    "name": "ipython",
    "version": 3
   },
   "file_extension": ".py",
   "mimetype": "text/x-python",
   "name": "python",
   "nbconvert_exporter": "python",
   "pygments_lexer": "ipython3",
   "version": "3.6.1"
  },
  "nbTranslate": {
   "displayLangs": [
    "*"
   ],
   "hotkey": "alt-t",
   "langInMainMenu": true,
   "sourceLang": "en",
   "targetLang": "fr",
   "useGoogleTranslate": true
  }
 },
 "nbformat": 4,
 "nbformat_minor": 2
}
