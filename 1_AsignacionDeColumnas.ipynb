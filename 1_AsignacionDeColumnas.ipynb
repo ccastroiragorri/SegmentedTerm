{
 "cells": [
  {
   "cell_type": "code",
   "execution_count": 1,
   "metadata": {
    "collapsed": true
   },
   "outputs": [],
   "source": [
    "import pandas as pd\n",
    "import os \n",
    "\n",
    "columnas = ['Nemotecnico',\n",
    "'Isin',\n",
    "'NumEmision',\n",
    "'Estado',\n",
    "'Fecha',\n",
    "'FechaEmision',\n",
    "'FechaVencimimento',\n",
    "'Modalidad',\n",
    "'DiasVencimiento',\n",
    "'Moneda',\n",
    "'Tasa',\n",
    "'Tasa',\n",
    "'Spread',\n",
    "'TipoCalculo',\n",
    "'BaseCalculo',\n",
    "'Precio',\n",
    "'FechaUltimoPrecio',\n",
    "'UltimoPrecio',\n",
    "'PrecioLimpio',\n",
    "'Vigente',\n",
    "'FechaInicio',\n",
    "'FechaFin',\n",
    "'PrecioAnterior',\n",
    "'Variacion',\n",
    "'RangoVencimiento',\n",
    "'Margen',\n",
    "'Tir',\n",
    "'MargenEquivalente',\n",
    "'Duracion',\n",
    "'DuracionModificada',\n",
    "'Convexidad',\n",
    "'CuponCorrido',\n",
    "'Calificacion']\n",
    "\n",
    "pathTesis = os.getcwd()\n",
    "pathBasesSin = os.path.join(pathTesis,'bases/datosPrecia/PreciosSinColumnas')\n",
    "pathBasesCon = os.path.join(pathTesis,'bases/datosPrecia/PreciosConColumnas')\n",
    "\n",
    "listadoBasesSin = os.listdir(pathBasesSin)"
   ]
  },
  {
   "cell_type": "code",
   "execution_count": 2,
   "metadata": {
    "collapsed": true
   },
   "outputs": [],
   "source": [
    "for valor in listadoBasesSin:\n",
    "    data = pd.read_csv(os.path.join(pathBasesSin,valor),sep='|', names=columnas)\n",
    "    data.to_csv(os.path.join(pathBasesCon,valor),sep='|',index=False,header=True)"
   ]
  }
 ],
 "metadata": {
  "kernelspec": {
   "display_name": "Python 3",
   "language": "python",
   "name": "python3"
  },
  "language_info": {
   "codemirror_mode": {
    "name": "ipython",
    "version": 3
   },
   "file_extension": ".py",
   "mimetype": "text/x-python",
   "name": "python",
   "nbconvert_exporter": "python",
   "pygments_lexer": "ipython3",
   "version": "3.6.1"
  },
  "nbTranslate": {
   "displayLangs": [
    "*"
   ],
   "hotkey": "alt-t",
   "langInMainMenu": true,
   "sourceLang": "en",
   "targetLang": "fr",
   "useGoogleTranslate": true
  }
 },
 "nbformat": 4,
 "nbformat_minor": 2
}
